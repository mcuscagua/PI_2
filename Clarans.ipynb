{
 "cells": [
  {
   "cell_type": "code",
   "execution_count": 63,
   "metadata": {},
   "outputs": [],
   "source": [
    "from pyclustering.cluster.clarans import clarans;\n",
    "from pyclustering.utils import timedcall;\n",
    "from sklearn import datasets\n",
    "import numpy as np\n",
    "import pandas as pd\n",
    "import operator\n",
    "\n",
    "df = pd.read_csv('Rentabilidad de estrategias base 100.csv')\n",
    "\n",
    "def clara(df,k=3,v=4):\n",
    "    df['year'] = df['Date'].apply(lambda x: x.split('-')[0])\n",
    "    df2 = df[df['year'].isin(['2017','2018','2019'])]\n",
    "    df2 = df2.drop('year',axis=1)\n",
    "    df2=df2.set_index('Date').tail(365)\n",
    "    df3 = df2.tail(365).transpose()\n",
    "    data = np.array(df3)\n",
    "\n",
    "    data = data.tolist()\n",
    "\n",
    "    #get a glimpse of dataset\n",
    "    #print(\"A peek into the dataset : \",data[:4])\n",
    "\n",
    "\n",
    "    \"\"\"!\n",
    "    @brief Constructor of clustering algorithm CLARANS.\n",
    "    @details The higher the value of maxneighbor, the closer is CLARANS to K-Medoids, and the longer is each search of a local minima.\n",
    "    @param[in] data: Input data that is presented as list of points (objects), each point should be represented by list or tuple.\n",
    "    @param[in] number_clusters: amount of clusters that should be allocated.\n",
    "    @param[in] numlocal: the number of local minima obtained (amount of iterations for solving the problem).\n",
    "    @param[in] maxneighbor: the maximum number of neighbors examined.        \n",
    "    \"\"\"\n",
    "    clarans_instance = clarans(data, k, 6, v);\n",
    "\n",
    "    #calls the clarans method 'process' to implement the algortihm\n",
    "    (ticks, result) = timedcall(clarans_instance.process);\n",
    "    print(\"Execution time : \", ticks, \"\\n\");\n",
    "\n",
    "    #returns the clusters \n",
    "    clusters = clarans_instance.get_clusters();\n",
    "\n",
    "    #returns the mediods \n",
    "    medoids = clarans_instance.get_medoids();\n",
    "\n",
    "    dic = {}\n",
    "    for var in range(len(clusters)):\n",
    "        for var2 in clusters[var]:\n",
    "            dic[var2] = var\n",
    "\n",
    "\n",
    "    resultado = sorted(dic.items(), key=operator.itemgetter(0))\n",
    "\n",
    "    dic = {}\n",
    "    for var in resultado:\n",
    "        dic[df3.index[var[0]]] = var[1]\n",
    "\n",
    "    clf = pd.DataFrame.from_dict(dic,orient='index')\n",
    "    clf = clf.reset_index()\n",
    "    results = clf.rename(columns={'index':'strategies',0:'clusters'})\n",
    "\n",
    "    sharpeclusters =[] \n",
    "    Features = df2\n",
    "    for i in range(results['clusters'].nunique()):\n",
    "\n",
    "        l = results.loc[results['clusters'] == i].index.values.astype(int).tolist()\n",
    "        dfexp=Features.pct_change().iloc[: , l].sum(axis = 1, skipna = True)\n",
    "        r = dfexp.mean()\n",
    "        s = dfexp.std()\n",
    "\n",
    "        sharpeclusters.append(r/s)\n",
    "    sharpeclusters = np.asanyarray(sharpeclusters)\n",
    "\n",
    "    selection = sharpeclusters.argmax()\n",
    "    cond = results['clusters'] == selection\n",
    "\n",
    "    results['selection'] = np.where(cond, 1, 0)\n",
    "\n",
    "    return list(results['selection'])\n"
   ]
  },
  {
   "cell_type": "code",
   "execution_count": 65,
   "metadata": {},
   "outputs": [
    {
     "name": "stdout",
     "output_type": "stream",
     "text": [
      "Execution time :  6.946293000000001 \n",
      "\n"
     ]
    },
    {
     "data": {
      "text/plain": [
       "[1,\n",
       " 0,\n",
       " 0,\n",
       " 1,\n",
       " 0,\n",
       " 0,\n",
       " 0,\n",
       " 0,\n",
       " 0,\n",
       " 0,\n",
       " 0,\n",
       " 0,\n",
       " 0,\n",
       " 0,\n",
       " 0,\n",
       " 0,\n",
       " 0,\n",
       " 0,\n",
       " 0,\n",
       " 0,\n",
       " 0,\n",
       " 0,\n",
       " 0,\n",
       " 0,\n",
       " 0,\n",
       " 0,\n",
       " 0]"
      ]
     },
     "execution_count": 65,
     "metadata": {},
     "output_type": "execute_result"
    }
   ],
   "source": [
    "clara(df,k=3,v=5)"
   ]
  },
  {
   "cell_type": "code",
   "execution_count": null,
   "metadata": {},
   "outputs": [],
   "source": []
  },
  {
   "cell_type": "code",
   "execution_count": null,
   "metadata": {},
   "outputs": [],
   "source": []
  }
 ],
 "metadata": {
  "kernelspec": {
   "display_name": "Python 3",
   "language": "python",
   "name": "python3"
  },
  "language_info": {
   "codemirror_mode": {
    "name": "ipython",
    "version": 3
   },
   "file_extension": ".py",
   "mimetype": "text/x-python",
   "name": "python",
   "nbconvert_exporter": "python",
   "pygments_lexer": "ipython3",
   "version": "3.7.3"
  }
 },
 "nbformat": 4,
 "nbformat_minor": 2
}
