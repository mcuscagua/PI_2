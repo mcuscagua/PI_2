{
 "cells": [
  {
   "cell_type": "markdown",
   "metadata": {},
   "source": [
    "# Clasificador de estrategias"
   ]
  },
  {
   "cell_type": "code",
   "execution_count": 9,
   "metadata": {},
   "outputs": [],
   "source": [
    "import numpy as np\n",
    "import pandas as pd\n",
    "import matplotlib as plt\n",
    "from math import sqrt\n",
    "from yellowbrick.cluster import KElbowVisualizer\n",
    "from statistics import stdev\n"
   ]
  },
  {
   "cell_type": "code",
   "execution_count": 10,
   "metadata": {},
   "outputs": [],
   "source": [
    "from pylab import plot,show\n",
    "from numpy import vstack,array\n",
    "from numpy.random import rand\n",
    "import numpy as np\n",
    "from scipy.cluster.vq import kmeans,vq\n",
    "import pandas as pd\n",
    "#import pandas_datareader as dr\n",
    "from math import sqrt\n",
    "from sklearn.cluster import KMeans\n",
    "from matplotlib import pyplot as plt\n",
    "from sklearn.metrics import silhouette_score\n",
    "from sklearn.decomposition import PCA "
   ]
  },
  {
   "cell_type": "code",
   "execution_count": 14,
   "metadata": {},
   "outputs": [],
   "source": [
    "'''Data Prep and Model Evaluation'''\n",
    "from sklearn import preprocessing as pp\n",
    "from sklearn.model_selection import train_test_split \n",
    "from sklearn.model_selection import StratifiedKFold \n",
    "from sklearn.metrics import log_loss, accuracy_score\n",
    "from sklearn.metrics import precision_recall_curve, average_precision_score\n",
    "from sklearn.metrics import roc_curve, auc, roc_auc_score, mean_squared_error\n",
    "from keras.utils import to_categorical\n",
    "from sklearn.metrics import adjusted_rand_score\n",
    "import random\n",
    "\n",
    "'''Algos'''\n",
    "#from kshape.core import kshape, zscore\n",
    "import tslearn\n",
    "from tslearn.utils import to_time_series_dataset\n",
    "from tslearn.clustering import KShape, TimeSeriesScalerMeanVariance\n",
    "from tslearn.clustering import TimeSeriesKMeans\n",
    "#import hdbscan"
   ]
  },
  {
   "cell_type": "code",
   "execution_count": 91,
   "metadata": {},
   "outputs": [],
   "source": [
    "# parameters\n",
    "n = (252) # number of observation to choose\n"
   ]
  },
  {
   "cell_type": "code",
   "execution_count": 92,
   "metadata": {},
   "outputs": [],
   "source": [
    "# Load the data\n",
    "path = '/Archivos/MIDS/GitHub/models/PI_2/Features.csv'\n",
    "#Archivos/MIDS/GitHub/models/PI_2/Features.csv\n",
    "Features = pd.read_csv('Rentabilidad de estrategias base 100.csv', index_col=0)"
   ]
  },
  {
   "cell_type": "code",
   "execution_count": 93,
   "metadata": {},
   "outputs": [
    {
     "data": {
      "text/html": [
       "<div>\n",
       "<style scoped>\n",
       "    .dataframe tbody tr th:only-of-type {\n",
       "        vertical-align: middle;\n",
       "    }\n",
       "\n",
       "    .dataframe tbody tr th {\n",
       "        vertical-align: top;\n",
       "    }\n",
       "\n",
       "    .dataframe thead th {\n",
       "        text-align: right;\n",
       "    }\n",
       "</style>\n",
       "<table border=\"1\" class=\"dataframe\">\n",
       "  <thead>\n",
       "    <tr style=\"text-align: right;\">\n",
       "      <th></th>\n",
       "      <th>LA1</th>\n",
       "      <th>SA1</th>\n",
       "      <th>LSA1</th>\n",
       "      <th>LA101</th>\n",
       "      <th>SA101</th>\n",
       "      <th>LSA101</th>\n",
       "      <th>LA2</th>\n",
       "      <th>SA2</th>\n",
       "      <th>LSA2</th>\n",
       "      <th>LA3</th>\n",
       "      <th>...</th>\n",
       "      <th>LSA53</th>\n",
       "      <th>LA54</th>\n",
       "      <th>SA54</th>\n",
       "      <th>LSA54</th>\n",
       "      <th>LA6</th>\n",
       "      <th>SA6</th>\n",
       "      <th>LSA6</th>\n",
       "      <th>LAMAR</th>\n",
       "      <th>SAMAR</th>\n",
       "      <th>LSAMAR</th>\n",
       "    </tr>\n",
       "    <tr>\n",
       "      <th>Date</th>\n",
       "      <th></th>\n",
       "      <th></th>\n",
       "      <th></th>\n",
       "      <th></th>\n",
       "      <th></th>\n",
       "      <th></th>\n",
       "      <th></th>\n",
       "      <th></th>\n",
       "      <th></th>\n",
       "      <th></th>\n",
       "      <th></th>\n",
       "      <th></th>\n",
       "      <th></th>\n",
       "      <th></th>\n",
       "      <th></th>\n",
       "      <th></th>\n",
       "      <th></th>\n",
       "      <th></th>\n",
       "      <th></th>\n",
       "      <th></th>\n",
       "      <th></th>\n",
       "    </tr>\n",
       "  </thead>\n",
       "  <tbody>\n",
       "    <tr>\n",
       "      <td>2008-10-31</td>\n",
       "      <td>112.315749</td>\n",
       "      <td>101.786622</td>\n",
       "      <td>114.102371</td>\n",
       "      <td>114.322571</td>\n",
       "      <td>103.793443</td>\n",
       "      <td>118.116014</td>\n",
       "      <td>99.449679</td>\n",
       "      <td>88.920552</td>\n",
       "      <td>88.370231</td>\n",
       "      <td>104.354609</td>\n",
       "      <td>...</td>\n",
       "      <td>81.883986</td>\n",
       "      <td>96.206557</td>\n",
       "      <td>85.677429</td>\n",
       "      <td>81.883986</td>\n",
       "      <td>104.354609</td>\n",
       "      <td>93.825481</td>\n",
       "      <td>98.180090</td>\n",
       "      <td>96.206557</td>\n",
       "      <td>85.677429</td>\n",
       "      <td>81.883986</td>\n",
       "    </tr>\n",
       "    <tr>\n",
       "      <td>2008-11-03</td>\n",
       "      <td>108.673546</td>\n",
       "      <td>102.316747</td>\n",
       "      <td>110.996498</td>\n",
       "      <td>106.226580</td>\n",
       "      <td>100.349511</td>\n",
       "      <td>105.832219</td>\n",
       "      <td>100.307494</td>\n",
       "      <td>93.034200</td>\n",
       "      <td>93.220667</td>\n",
       "      <td>103.600199</td>\n",
       "      <td>...</td>\n",
       "      <td>90.399733</td>\n",
       "      <td>99.398751</td>\n",
       "      <td>91.744855</td>\n",
       "      <td>90.399733</td>\n",
       "      <td>103.600199</td>\n",
       "      <td>96.678447</td>\n",
       "      <td>100.455694</td>\n",
       "      <td>99.398751</td>\n",
       "      <td>91.744855</td>\n",
       "      <td>90.399733</td>\n",
       "    </tr>\n",
       "    <tr>\n",
       "      <td>2008-11-04</td>\n",
       "      <td>125.214699</td>\n",
       "      <td>88.014545</td>\n",
       "      <td>112.375738</td>\n",
       "      <td>127.844695</td>\n",
       "      <td>91.470217</td>\n",
       "      <td>118.005653</td>\n",
       "      <td>112.245048</td>\n",
       "      <td>76.940813</td>\n",
       "      <td>88.189179</td>\n",
       "      <td>119.390981</td>\n",
       "      <td>...</td>\n",
       "      <td>80.001433</td>\n",
       "      <td>108.193919</td>\n",
       "      <td>73.073908</td>\n",
       "      <td>80.001433</td>\n",
       "      <td>119.390981</td>\n",
       "      <td>83.184769</td>\n",
       "      <td>101.746311</td>\n",
       "      <td>108.193919</td>\n",
       "      <td>73.073908</td>\n",
       "      <td>80.001433</td>\n",
       "    </tr>\n",
       "    <tr>\n",
       "      <td>2008-11-05</td>\n",
       "      <td>99.808765</td>\n",
       "      <td>100.439696</td>\n",
       "      <td>105.439075</td>\n",
       "      <td>98.080355</td>\n",
       "      <td>101.646659</td>\n",
       "      <td>103.660622</td>\n",
       "      <td>96.722894</td>\n",
       "      <td>92.773882</td>\n",
       "      <td>94.141451</td>\n",
       "      <td>99.195744</td>\n",
       "      <td>...</td>\n",
       "      <td>89.726586</td>\n",
       "      <td>96.156896</td>\n",
       "      <td>90.086712</td>\n",
       "      <td>89.726586</td>\n",
       "      <td>99.195744</td>\n",
       "      <td>97.735318</td>\n",
       "      <td>102.333012</td>\n",
       "      <td>96.156896</td>\n",
       "      <td>90.086712</td>\n",
       "      <td>89.726586</td>\n",
       "    </tr>\n",
       "    <tr>\n",
       "      <td>2008-11-06</td>\n",
       "      <td>80.598195</td>\n",
       "      <td>117.785421</td>\n",
       "      <td>103.353926</td>\n",
       "      <td>75.685445</td>\n",
       "      <td>115.555927</td>\n",
       "      <td>94.176416</td>\n",
       "      <td>81.308015</td>\n",
       "      <td>111.866757</td>\n",
       "      <td>98.512300</td>\n",
       "      <td>79.377214</td>\n",
       "      <td>...</td>\n",
       "      <td>97.935928</td>\n",
       "      <td>82.998843</td>\n",
       "      <td>110.656415</td>\n",
       "      <td>97.935928</td>\n",
       "      <td>79.377214</td>\n",
       "      <td>113.898740</td>\n",
       "      <td>98.811468</td>\n",
       "      <td>82.998843</td>\n",
       "      <td>110.656415</td>\n",
       "      <td>97.935928</td>\n",
       "    </tr>\n",
       "  </tbody>\n",
       "</table>\n",
       "<p>5 rows × 27 columns</p>\n",
       "</div>"
      ],
      "text/plain": [
       "                   LA1         SA1        LSA1       LA101       SA101  \\\n",
       "Date                                                                     \n",
       "2008-10-31  112.315749  101.786622  114.102371  114.322571  103.793443   \n",
       "2008-11-03  108.673546  102.316747  110.996498  106.226580  100.349511   \n",
       "2008-11-04  125.214699   88.014545  112.375738  127.844695   91.470217   \n",
       "2008-11-05   99.808765  100.439696  105.439075   98.080355  101.646659   \n",
       "2008-11-06   80.598195  117.785421  103.353926   75.685445  115.555927   \n",
       "\n",
       "                LSA101         LA2         SA2       LSA2         LA3  ...  \\\n",
       "Date                                                                   ...   \n",
       "2008-10-31  118.116014   99.449679   88.920552  88.370231  104.354609  ...   \n",
       "2008-11-03  105.832219  100.307494   93.034200  93.220667  103.600199  ...   \n",
       "2008-11-04  118.005653  112.245048   76.940813  88.189179  119.390981  ...   \n",
       "2008-11-05  103.660622   96.722894   92.773882  94.141451   99.195744  ...   \n",
       "2008-11-06   94.176416   81.308015  111.866757  98.512300   79.377214  ...   \n",
       "\n",
       "                LSA53        LA54        SA54      LSA54         LA6  \\\n",
       "Date                                                                   \n",
       "2008-10-31  81.883986   96.206557   85.677429  81.883986  104.354609   \n",
       "2008-11-03  90.399733   99.398751   91.744855  90.399733  103.600199   \n",
       "2008-11-04  80.001433  108.193919   73.073908  80.001433  119.390981   \n",
       "2008-11-05  89.726586   96.156896   90.086712  89.726586   99.195744   \n",
       "2008-11-06  97.935928   82.998843  110.656415  97.935928   79.377214   \n",
       "\n",
       "                   SA6        LSA6       LAMAR       SAMAR     LSAMAR  \n",
       "Date                                                                   \n",
       "2008-10-31   93.825481   98.180090   96.206557   85.677429  81.883986  \n",
       "2008-11-03   96.678447  100.455694   99.398751   91.744855  90.399733  \n",
       "2008-11-04   83.184769  101.746311  108.193919   73.073908  80.001433  \n",
       "2008-11-05   97.735318  102.333012   96.156896   90.086712  89.726586  \n",
       "2008-11-06  113.898740   98.811468   82.998843  110.656415  97.935928  \n",
       "\n",
       "[5 rows x 27 columns]"
      ]
     },
     "execution_count": 93,
     "metadata": {},
     "output_type": "execute_result"
    }
   ],
   "source": [
    "Features.head(5)"
   ]
  },
  {
   "cell_type": "code",
   "execution_count": 94,
   "metadata": {},
   "outputs": [],
   "source": [
    "df = Features.tail(n)"
   ]
  },
  {
   "cell_type": "code",
   "execution_count": 95,
   "metadata": {},
   "outputs": [
    {
     "name": "stdout",
     "output_type": "stream",
     "text": [
      "Number of time series: 27\n",
      "Number of unique classes: 27\n",
      "Time series length: 251\n"
     ]
    }
   ],
   "source": [
    "# Basic summary statistics\n",
    "data_train = df.T.values\n",
    "print(\"Number of time series:\", len(data_train))\n",
    "print(\"Number of unique classes:\", len(np.unique(data_train[:,0])))\n",
    "print(\"Time series length:\", len(data_train[0,1:]))"
   ]
  },
  {
   "cell_type": "code",
   "execution_count": 96,
   "metadata": {},
   "outputs": [],
   "source": [
    "# Prepare the data - Scale\n",
    "data_scaled = TimeSeriesScalerMeanVariance(mu=0., std=1.).fit_transform(data_train)\n",
    " "
   ]
  },
  {
   "cell_type": "code",
   "execution_count": 97,
   "metadata": {},
   "outputs": [
    {
     "data": {
      "text/plain": [
       "[<matplotlib.lines.Line2D at 0x28d1883a488>]"
      ]
     },
     "execution_count": 97,
     "metadata": {},
     "output_type": "execute_result"
    },
    {
     "data": {
      "image/png": "[encoded data removed]",
      "text/plain": [
       "<Figure size 432x288 with 1 Axes>"
      ]
     },
     "metadata": {
      "needs_background": "light"
     },
     "output_type": "display_data"
    }
   ],
   "source": [
    "plt.plot(data_scaled[26 ,:,: ] )"
   ]
  },
  {
   "cell_type": "code",
   "execution_count": 100,
   "metadata": {},
   "outputs": [
    {
     "data": {
      "text/plain": [
       "KShape(init='random', max_iter=100, n_clusters=2, n_init=100, random_state=None,\n",
       "       tol=1e-06, verbose=0)"
      ]
     },
     "execution_count": 100,
     "metadata": {},
     "output_type": "execute_result"
    }
   ],
   "source": [
    "ks = KShape(n_clusters=2, max_iter=100, n_init=100,verbose=0)\n",
    "ks.fit(data_train)\n",
    "\n",
    "\n"
   ]
  },
  {
   "cell_type": "code",
   "execution_count": 58,
   "metadata": {},
   "outputs": [
    {
     "name": "stdout",
     "output_type": "stream",
     "text": [
      "27\n"
     ]
    }
   ],
   "source": [
    "print(data_scaled.shape[1])"
   ]
  },
  {
   "cell_type": "code",
   "execution_count": 101,
   "metadata": {},
   "outputs": [],
   "source": [
    "X = data_scaled\n",
    "distorsions = []\n",
    "for k in range(2, 15):\n",
    "    ks = KShape(n_clusters=k, max_iter=100, n_init=100,verbose=0).fit(X)\n",
    "    distorsions.append(ks.inertia_)"
   ]
  },
  {
   "cell_type": "code",
   "execution_count": 102,
   "metadata": {},
   "outputs": [
    {
     "data": {
      "text/plain": [
       "Text(0.5, 1.0, 'Elbow curve')"
      ]
     },
     "execution_count": 102,
     "metadata": {},
     "output_type": "execute_result"
    },
    {
     "data": {
      "image/png": "[encoded data removed]",
      "text/plain": [
       "<Figure size 1080x360 with 1 Axes>"
      ]
     },
     "metadata": {
      "needs_background": "light"
     },
     "output_type": "display_data"
    }
   ],
   "source": [
    "fig = plt.figure(figsize=(15, 5))\n",
    "plt.plot(range(2, 15), distorsions)\n",
    "plt.grid(True)\n",
    "plt.title('Elbow curve')"
   ]
  },
  {
   "cell_type": "code",
   "execution_count": null,
   "metadata": {},
   "outputs": [],
   "source": [
    "# correr el Kshapes con el k seleccionado"
   ]
  },
  {
   "cell_type": "code",
   "execution_count": 103,
   "metadata": {},
   "outputs": [
    {
     "name": "stdout",
     "output_type": "stream",
     "text": [
      "\n",
      "Cluster centres PI:\n",
      "[5 0 5 5 0 4 5 0 6 5 0 2 5 0 3 5 0 3 5 0 6 5 0 0 5 0 1]\n"
     ]
    }
   ],
   "source": [
    "ks = KShape(n_clusters=7, max_iter=100, n_init=100,verbose=0).fit(X)\n",
    "preds = ks.fit_predict(X)\n",
    "  \n",
    "print('\\nCluster labels:')\n",
    "print(ks.labels_)\n"
   ]
  },
  {
   "cell_type": "code",
   "execution_count": null,
   "metadata": {},
   "outputs": [],
   "source": []
  },
  {
   "cell_type": "code",
   "execution_count": null,
   "metadata": {},
   "outputs": [],
   "source": [
    "# dataframe con las estrategias y con la asignacion a cada cluster"
   ]
  },
  {
   "cell_type": "code",
   "execution_count": 113,
   "metadata": {},
   "outputs": [],
   "source": [
    "index =list(range(len(Features.columns)))\n",
    "columns = ['strategies','clusters', 'selection']\n",
    "\n",
    "\n",
    "results = pd.DataFrame(index=index, columns=columns)\n",
    "\n",
    "results ['clusters'] = ks.labels_\n",
    "results ['strategies'] = Features.columns\n",
    " "
   ]
  },
  {
   "cell_type": "code",
   "execution_count": 119,
   "metadata": {},
   "outputs": [
    {
     "data": {
      "text/html": [
       "<div>\n",
       "<style scoped>\n",
       "    .dataframe tbody tr th:only-of-type {\n",
       "        vertical-align: middle;\n",
       "    }\n",
       "\n",
       "    .dataframe tbody tr th {\n",
       "        vertical-align: top;\n",
       "    }\n",
       "\n",
       "    .dataframe thead th {\n",
       "        text-align: right;\n",
       "    }\n",
       "</style>\n",
       "<table border=\"1\" class=\"dataframe\">\n",
       "  <thead>\n",
       "    <tr style=\"text-align: right;\">\n",
       "      <th></th>\n",
       "      <th>strategies</th>\n",
       "      <th>clusters</th>\n",
       "      <th>selection</th>\n",
       "    </tr>\n",
       "  </thead>\n",
       "  <tbody>\n",
       "    <tr>\n",
       "      <td>0</td>\n",
       "      <td>LA1</td>\n",
       "      <td>5</td>\n",
       "      <td>0</td>\n",
       "    </tr>\n",
       "    <tr>\n",
       "      <td>1</td>\n",
       "      <td>SA1</td>\n",
       "      <td>0</td>\n",
       "      <td>0</td>\n",
       "    </tr>\n",
       "    <tr>\n",
       "      <td>2</td>\n",
       "      <td>LSA1</td>\n",
       "      <td>5</td>\n",
       "      <td>0</td>\n",
       "    </tr>\n",
       "    <tr>\n",
       "      <td>3</td>\n",
       "      <td>LA101</td>\n",
       "      <td>5</td>\n",
       "      <td>0</td>\n",
       "    </tr>\n",
       "    <tr>\n",
       "      <td>4</td>\n",
       "      <td>SA101</td>\n",
       "      <td>0</td>\n",
       "      <td>0</td>\n",
       "    </tr>\n",
       "    <tr>\n",
       "      <td>5</td>\n",
       "      <td>LSA101</td>\n",
       "      <td>4</td>\n",
       "      <td>1</td>\n",
       "    </tr>\n",
       "    <tr>\n",
       "      <td>6</td>\n",
       "      <td>LA2</td>\n",
       "      <td>5</td>\n",
       "      <td>0</td>\n",
       "    </tr>\n",
       "    <tr>\n",
       "      <td>7</td>\n",
       "      <td>SA2</td>\n",
       "      <td>0</td>\n",
       "      <td>0</td>\n",
       "    </tr>\n",
       "    <tr>\n",
       "      <td>8</td>\n",
       "      <td>LSA2</td>\n",
       "      <td>6</td>\n",
       "      <td>0</td>\n",
       "    </tr>\n",
       "    <tr>\n",
       "      <td>9</td>\n",
       "      <td>LA3</td>\n",
       "      <td>5</td>\n",
       "      <td>0</td>\n",
       "    </tr>\n",
       "    <tr>\n",
       "      <td>10</td>\n",
       "      <td>SA3</td>\n",
       "      <td>0</td>\n",
       "      <td>0</td>\n",
       "    </tr>\n",
       "    <tr>\n",
       "      <td>11</td>\n",
       "      <td>LSA3</td>\n",
       "      <td>2</td>\n",
       "      <td>0</td>\n",
       "    </tr>\n",
       "    <tr>\n",
       "      <td>12</td>\n",
       "      <td>LA44</td>\n",
       "      <td>5</td>\n",
       "      <td>0</td>\n",
       "    </tr>\n",
       "    <tr>\n",
       "      <td>13</td>\n",
       "      <td>SA44</td>\n",
       "      <td>0</td>\n",
       "      <td>0</td>\n",
       "    </tr>\n",
       "    <tr>\n",
       "      <td>14</td>\n",
       "      <td>LSA44</td>\n",
       "      <td>3</td>\n",
       "      <td>0</td>\n",
       "    </tr>\n",
       "    <tr>\n",
       "      <td>15</td>\n",
       "      <td>LA53</td>\n",
       "      <td>5</td>\n",
       "      <td>0</td>\n",
       "    </tr>\n",
       "    <tr>\n",
       "      <td>16</td>\n",
       "      <td>SA53</td>\n",
       "      <td>0</td>\n",
       "      <td>0</td>\n",
       "    </tr>\n",
       "    <tr>\n",
       "      <td>17</td>\n",
       "      <td>LSA53</td>\n",
       "      <td>3</td>\n",
       "      <td>0</td>\n",
       "    </tr>\n",
       "    <tr>\n",
       "      <td>18</td>\n",
       "      <td>LA54</td>\n",
       "      <td>5</td>\n",
       "      <td>0</td>\n",
       "    </tr>\n",
       "    <tr>\n",
       "      <td>19</td>\n",
       "      <td>SA54</td>\n",
       "      <td>0</td>\n",
       "      <td>0</td>\n",
       "    </tr>\n",
       "    <tr>\n",
       "      <td>20</td>\n",
       "      <td>LSA54</td>\n",
       "      <td>6</td>\n",
       "      <td>0</td>\n",
       "    </tr>\n",
       "    <tr>\n",
       "      <td>21</td>\n",
       "      <td>LA6</td>\n",
       "      <td>5</td>\n",
       "      <td>0</td>\n",
       "    </tr>\n",
       "    <tr>\n",
       "      <td>22</td>\n",
       "      <td>SA6</td>\n",
       "      <td>0</td>\n",
       "      <td>0</td>\n",
       "    </tr>\n",
       "    <tr>\n",
       "      <td>23</td>\n",
       "      <td>LSA6</td>\n",
       "      <td>0</td>\n",
       "      <td>0</td>\n",
       "    </tr>\n",
       "    <tr>\n",
       "      <td>24</td>\n",
       "      <td>LAMAR</td>\n",
       "      <td>5</td>\n",
       "      <td>0</td>\n",
       "    </tr>\n",
       "    <tr>\n",
       "      <td>25</td>\n",
       "      <td>SAMAR</td>\n",
       "      <td>0</td>\n",
       "      <td>0</td>\n",
       "    </tr>\n",
       "    <tr>\n",
       "      <td>26</td>\n",
       "      <td>LSAMAR</td>\n",
       "      <td>1</td>\n",
       "      <td>0</td>\n",
       "    </tr>\n",
       "  </tbody>\n",
       "</table>\n",
       "</div>"
      ],
      "text/plain": [
       "   strategies  clusters  selection\n",
       "0         LA1         5          0\n",
       "1         SA1         0          0\n",
       "2        LSA1         5          0\n",
       "3       LA101         5          0\n",
       "4       SA101         0          0\n",
       "5      LSA101         4          1\n",
       "6         LA2         5          0\n",
       "7         SA2         0          0\n",
       "8        LSA2         6          0\n",
       "9         LA3         5          0\n",
       "10        SA3         0          0\n",
       "11       LSA3         2          0\n",
       "12       LA44         5          0\n",
       "13       SA44         0          0\n",
       "14      LSA44         3          0\n",
       "15       LA53         5          0\n",
       "16       SA53         0          0\n",
       "17      LSA53         3          0\n",
       "18       LA54         5          0\n",
       "19       SA54         0          0\n",
       "20      LSA54         6          0\n",
       "21        LA6         5          0\n",
       "22        SA6         0          0\n",
       "23       LSA6         0          0\n",
       "24      LAMAR         5          0\n",
       "25      SAMAR         0          0\n",
       "26     LSAMAR         1          0"
      ]
     },
     "execution_count": 119,
     "metadata": {},
     "output_type": "execute_result"
    }
   ],
   "source": [
    "results"
   ]
  },
  {
   "cell_type": "code",
   "execution_count": 115,
   "metadata": {},
   "outputs": [],
   "source": [
    "sharpeclusters =[] \n",
    "Features = Features.tail(n)\n",
    "for i in range(results['clusters'].nunique()):\n",
    "    \n",
    "    l = results.loc[results['clusters'] == i].index.values.astype(int).tolist()\n",
    "    dfexp=Features.pct_change().iloc[: , l].sum(axis = 1, skipna = True)\n",
    "    r = dfexp.mean()\n",
    "    s = stdev(dfexp)\n",
    "    \n",
    "    sharpeclusters.append(r/s)\n",
    "sharpeclusters = np.asanyarray(sharpeclusters)\n",
    "\n"
   ]
  },
  {
   "cell_type": "code",
   "execution_count": 118,
   "metadata": {},
   "outputs": [],
   "source": [
    "selection = sharpeclusters.argmax()\n",
    "cond = results['clusters'] == selection\n",
    "\n",
    "results['selection'] = np.where(cond, 1, 0)"
   ]
  },
  {
   "cell_type": "code",
   "execution_count": 122,
   "metadata": {},
   "outputs": [
    {
     "data": {
      "text/plain": [
       "0     0\n",
       "1     0\n",
       "2     0\n",
       "3     0\n",
       "4     0\n",
       "5     1\n",
       "6     0\n",
       "7     0\n",
       "8     0\n",
       "9     0\n",
       "10    0\n",
       "11    0\n",
       "12    0\n",
       "13    0\n",
       "14    0\n",
       "15    0\n",
       "16    0\n",
       "17    0\n",
       "18    0\n",
       "19    0\n",
       "20    0\n",
       "21    0\n",
       "22    0\n",
       "23    0\n",
       "24    0\n",
       "25    0\n",
       "26    0\n",
       "Name: selection, dtype: int32"
      ]
     },
     "execution_count": 122,
     "metadata": {},
     "output_type": "execute_result"
    }
   ],
   "source": [
    "results['selection']"
   ]
  }
 ],
 "metadata": {
  "kernelspec": {
   "display_name": "Python 3",
   "language": "python",
   "name": "python3"
  },
  "language_info": {
   "codemirror_mode": {
    "name": "ipython",
    "version": 3
   },
   "file_extension": ".py",
   "mimetype": "text/x-python",
   "name": "python",
   "nbconvert_exporter": "python",
   "pygments_lexer": "ipython3",
   "version": "3.7.4"
  }
 },
 "nbformat": 4,
 "nbformat_minor": 4
}
