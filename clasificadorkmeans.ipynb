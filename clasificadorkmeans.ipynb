{
 "cells": [
  {
   "cell_type": "markdown",
   "metadata": {},
   "source": [
    "# Clasificador de estrategias"
   ]
  },
  {
   "cell_type": "code",
   "execution_count": 1,
   "metadata": {},
   "outputs": [],
   "source": [
    "import numpy as np\n",
    "import pandas as pd\n",
    "import matplotlib as plt\n",
    "from math import sqrt\n",
    "from yellowbrick.cluster import KElbowVisualizer\n"
   ]
  },
  {
   "cell_type": "code",
   "execution_count": 31,
   "metadata": {},
   "outputs": [],
   "source": [
    "from pylab import plot,show\n",
    "from numpy import vstack,array\n",
    "from numpy.random import rand\n",
    "import numpy as np\n",
    "from scipy.cluster.vq import kmeans,vq\n",
    "import pandas as pd\n",
    "#import pandas_datareader as dr\n",
    "from math import sqrt\n",
    "from sklearn.cluster import KMeans\n",
    "from matplotlib import pyplot as plt\n",
    "from sklearn.metrics import silhouette_score\n",
    "from sklearn.decomposition import PCA "
   ]
  },
  {
   "cell_type": "code",
   "execution_count": 5,
   "metadata": {},
   "outputs": [],
   "source": [
    "# Load the data\n",
    "path = '/Archivos/MIDS/GitHub/models/PI_2/Features.csv'\n",
    "#Archivos/MIDS/GitHub/models/PI_2/Features.csv\n",
    "Features = pd.read_csv('Data_Prices.csv', index_col=0)"
   ]
  },
  {
   "cell_type": "code",
   "execution_count": 6,
   "metadata": {},
   "outputs": [
    {
     "data": {
      "text/html": [
       "<div>\n",
       "<style scoped>\n",
       "    .dataframe tbody tr th:only-of-type {\n",
       "        vertical-align: middle;\n",
       "    }\n",
       "\n",
       "    .dataframe tbody tr th {\n",
       "        vertical-align: top;\n",
       "    }\n",
       "\n",
       "    .dataframe thead th {\n",
       "        text-align: right;\n",
       "    }\n",
       "</style>\n",
       "<table border=\"1\" class=\"dataframe\">\n",
       "  <thead>\n",
       "    <tr style=\"text-align: right;\">\n",
       "      <th></th>\n",
       "      <th>XLP</th>\n",
       "      <th>XLY</th>\n",
       "      <th>XLE</th>\n",
       "      <th>XLF</th>\n",
       "      <th>XLV</th>\n",
       "      <th>XLI</th>\n",
       "      <th>XLK</th>\n",
       "      <th>XLU</th>\n",
       "    </tr>\n",
       "    <tr>\n",
       "      <th>Date</th>\n",
       "      <th></th>\n",
       "      <th></th>\n",
       "      <th></th>\n",
       "      <th></th>\n",
       "      <th></th>\n",
       "      <th></th>\n",
       "      <th></th>\n",
       "      <th></th>\n",
       "    </tr>\n",
       "  </thead>\n",
       "  <tbody>\n",
       "    <tr>\n",
       "      <th>2000-01-03</th>\n",
       "      <td>22.7500</td>\n",
       "      <td>30.1250</td>\n",
       "      <td>26.5625</td>\n",
       "      <td>18.5749</td>\n",
       "      <td>30.2969</td>\n",
       "      <td>28.8438</td>\n",
       "      <td>55.4375</td>\n",
       "      <td>27.4531</td>\n",
       "    </tr>\n",
       "    <tr>\n",
       "      <th>2000-01-04</th>\n",
       "      <td>22.1094</td>\n",
       "      <td>29.2188</td>\n",
       "      <td>26.0625</td>\n",
       "      <td>17.7629</td>\n",
       "      <td>29.6094</td>\n",
       "      <td>28.0469</td>\n",
       "      <td>52.6250</td>\n",
       "      <td>26.6250</td>\n",
       "    </tr>\n",
       "    <tr>\n",
       "      <th>2000-01-05</th>\n",
       "      <td>22.5000</td>\n",
       "      <td>28.8594</td>\n",
       "      <td>26.7500</td>\n",
       "      <td>17.6233</td>\n",
       "      <td>29.3438</td>\n",
       "      <td>27.9219</td>\n",
       "      <td>51.8438</td>\n",
       "      <td>27.2969</td>\n",
       "    </tr>\n",
       "    <tr>\n",
       "      <th>2000-01-06</th>\n",
       "      <td>22.9219</td>\n",
       "      <td>29.1875</td>\n",
       "      <td>27.7813</td>\n",
       "      <td>18.3973</td>\n",
       "      <td>29.4375</td>\n",
       "      <td>28.2969</td>\n",
       "      <td>50.1250</td>\n",
       "      <td>27.2500</td>\n",
       "    </tr>\n",
       "    <tr>\n",
       "      <th>2000-01-07</th>\n",
       "      <td>24.3750</td>\n",
       "      <td>30.5625</td>\n",
       "      <td>28.0781</td>\n",
       "      <td>18.7018</td>\n",
       "      <td>29.7969</td>\n",
       "      <td>29.3750</td>\n",
       "      <td>51.0000</td>\n",
       "      <td>27.4844</td>\n",
       "    </tr>\n",
       "  </tbody>\n",
       "</table>\n",
       "</div>"
      ],
      "text/plain": [
       "                XLP      XLY      XLE      XLF      XLV      XLI      XLK  \\\n",
       "Date                                                                        \n",
       "2000-01-03  22.7500  30.1250  26.5625  18.5749  30.2969  28.8438  55.4375   \n",
       "2000-01-04  22.1094  29.2188  26.0625  17.7629  29.6094  28.0469  52.6250   \n",
       "2000-01-05  22.5000  28.8594  26.7500  17.6233  29.3438  27.9219  51.8438   \n",
       "2000-01-06  22.9219  29.1875  27.7813  18.3973  29.4375  28.2969  50.1250   \n",
       "2000-01-07  24.3750  30.5625  28.0781  18.7018  29.7969  29.3750  51.0000   \n",
       "\n",
       "                XLU  \n",
       "Date                 \n",
       "2000-01-03  27.4531  \n",
       "2000-01-04  26.6250  \n",
       "2000-01-05  27.2969  \n",
       "2000-01-06  27.2500  \n",
       "2000-01-07  27.4844  "
      ]
     },
     "execution_count": 6,
     "metadata": {},
     "output_type": "execute_result"
    }
   ],
   "source": [
    "Features.head(5)"
   ]
  },
  {
   "cell_type": "code",
   "execution_count": 7,
   "metadata": {},
   "outputs": [],
   "source": [
    "df = Features.tail(2520)"
   ]
  },
  {
   "cell_type": "code",
   "execution_count": 8,
   "metadata": {},
   "outputs": [],
   "source": [
    "import datetime as dt\n",
    "#Features['Date'] = pd.to_datetime(df['Date'])\n",
    "\n",
    "#include = df[df['Date'].dt.year == year]\n"
   ]
  },
  {
   "cell_type": "code",
   "execution_count": 52,
   "metadata": {},
   "outputs": [],
   "source": [
    "# calculamos el retorno y volatilidad.\n",
    "\n",
    "returns = df.pct_change().mean() * df.shape[0]\n",
    "returns = pd.DataFrame(returns)\n",
    "returns.columns = ['Returns'] \n",
    "returns['Volatility'] = df.pct_change().std()* sqrt(df.shape[0])\n",
    "\n",
    "#format the data as a numpy array to feed into the K-Means algorithm\n",
    "data = np.asarray([np.asarray(returns['Returns']),np.asarray(returns['Volatility'])]).T\n"
   ]
  },
  {
   "cell_type": "code",
   "execution_count": 53,
   "metadata": {},
   "outputs": [
    {
     "data": {
      "text/plain": [
       "array([[0.89013705, 0.37481491],\n",
       "       [1.55146076, 0.52956483],\n",
       "       [0.36929928, 0.69144783],\n",
       "       [1.07744188, 0.66642614],\n",
       "       [1.36474861, 0.46717751],\n",
       "       [1.18185201, 0.56159877],\n",
       "       [1.38891225, 0.52867043],\n",
       "       [0.78462126, 0.44884592]])"
      ]
     },
     "execution_count": 53,
     "metadata": {},
     "output_type": "execute_result"
    }
   ],
   "source": [
    "data"
   ]
  },
  {
   "cell_type": "code",
   "execution_count": 10,
   "metadata": {},
   "outputs": [
    {
     "name": "stdout",
     "output_type": "stream",
     "text": [
      "<class 'pandas.core.frame.DataFrame'>\n"
     ]
    }
   ],
   "source": [
    "print(type(returns))"
   ]
  },
  {
   "cell_type": "code",
   "execution_count": 11,
   "metadata": {},
   "outputs": [
    {
     "data": {
      "text/plain": [
       "Text(0.5, 1.0, 'Elbow curve')"
      ]
     },
     "execution_count": 11,
     "metadata": {},
     "output_type": "execute_result"
    },
    {
     "data": {
      "image/png": "[encoded data removed]",
      "text/plain": [
       "<Figure size 1080x360 with 1 Axes>"
      ]
     },
     "metadata": {
      "needs_background": "light"
     },
     "output_type": "display_data"
    }
   ],
   "source": [
    "X = data\n",
    "distorsions = []\n",
    "for k in range(2, 8):\n",
    "    k_means = KMeans(n_clusters=k)\n",
    "    k_means.fit(X)\n",
    "    distorsions.append(k_means.inertia_)\n",
    "\n",
    "fig = plt.figure(figsize=(15, 5))\n",
    "plt.plot(range(2, 8), distorsions)\n",
    "plt.grid(True)\n",
    "plt.title('Elbow curve')"
   ]
  },
  {
   "cell_type": "code",
   "execution_count": 12,
   "metadata": {},
   "outputs": [
    {
     "name": "stderr",
     "output_type": "stream",
     "text": [
      "C:\\Users\\lmosquera\\AppData\\Local\\Continuum\\anaconda3\\lib\\site-packages\\yellowbrick\\utils\\kneed.py:140: YellowbrickWarning: No 'knee' or 'elbow point' detected This could be due to bad clustering, no actual clusters being formed etc.\n",
      "  warnings.warn(warning_message, YellowbrickWarning)\n",
      "C:\\Users\\lmosquera\\AppData\\Local\\Continuum\\anaconda3\\lib\\site-packages\\yellowbrick\\cluster\\elbow.py:343: YellowbrickWarning: No 'knee' or 'elbow' point detected, pass `locate_elbow=False` to remove the warning\n",
      "  warnings.warn(warning_message, YellowbrickWarning)\n"
     ]
    },
    {
     "data": {
      "image/png": "[encoded data removed]",
      "text/plain": [
       "<Figure size 432x288 with 1 Axes>"
      ]
     },
     "metadata": {
      "needs_background": "light"
     },
     "output_type": "display_data"
    },
    {
     "data": {
      "text/plain": [
       "<matplotlib.axes._subplots.AxesSubplot at 0x2339714c630>"
      ]
     },
     "execution_count": 12,
     "metadata": {},
     "output_type": "execute_result"
    }
   ],
   "source": [
    "# Inicializat el KElbowVisualizer con el numero de cluster y la métrica \n",
    "visualizer = KElbowVisualizer(k_means, k=(2,6), metric='silhouette', timings=False)\n",
    "\n",
    "# Ajustar los datos y visualizar\n",
    "visualizer.fit(X)    \n",
    "visualizer.poof()"
   ]
  },
  {
   "cell_type": "code",
   "execution_count": 13,
   "metadata": {},
   "outputs": [
    {
     "data": {
      "image/png": "[encoded data removed]",
      "text/plain": [
       "<Figure size 432x288 with 1 Axes>"
      ]
     },
     "metadata": {
      "needs_background": "light"
     },
     "output_type": "display_data"
    },
    {
     "data": {
      "image/png": "[encoded data removed]",
      "text/plain": [
       "<Figure size 432x288 with 1 Axes>"
      ]
     },
     "metadata": {
      "needs_background": "light"
     },
     "output_type": "display_data"
    },
    {
     "data": {
      "text/plain": [
       "<matplotlib.axes._subplots.AxesSubplot at 0x2339705bb00>"
      ]
     },
     "execution_count": 13,
     "metadata": {},
     "output_type": "execute_result"
    }
   ],
   "source": [
    "#Escoger k\n",
    "distance_to_closter_cluster_centre = []\n",
    "for k in range(2,7):\n",
    "    k_means = KMeans(n_clusters=k)  \n",
    "    k_means.fit(X)\n",
    "    distance = np.min(k_means.transform(X),axis=1)\n",
    "    average_distance = np.mean(distance)\n",
    "    distance_to_closter_cluster_centre.append(average_distance)\n",
    "\n",
    "clusters = np.arange(len(distance_to_closter_cluster_centre))+1\n",
    "plt.plot(clusters, distance_to_closter_cluster_centre)\n",
    "plt.xlabel('Number of clusters (k) PI_PCA')\n",
    "plt.ylabel('Average distance to closest cluster centroid PI_PCA')\n",
    "plt.ylim(0,0.2)\n",
    "plt.show()\n",
    "\n",
    "# Instantiate the KElbowVisualizer with the number of clusters and the metric \n",
    "visualizer = KElbowVisualizer(k_means, k=(2,7), metric='silhouette', timings=False)\n",
    "\n",
    "# Fit the data and visualize\n",
    "visualizer.fit(X)    \n",
    "visualizer.poof()"
   ]
  },
  {
   "cell_type": "code",
   "execution_count": 20,
   "metadata": {},
   "outputs": [
    {
     "name": "stdout",
     "output_type": "stream",
     "text": [
      "\n",
      "Cluster centres PI:\n",
      "[[0.36929928 0.69144783]\n",
      " [1.43504054 0.50847092]\n",
      " [0.83737915 0.41183041]\n",
      " [1.12964694 0.61401246]]\n"
     ]
    }
   ],
   "source": [
    "# aplicar K-means de sklearn\n",
    "n_samples = 1500\n",
    "random_state = 170\n",
    "\n",
    "# Incorrect number of clusters\n",
    "kmeans1 = KMeans(n_clusters=4, random_state=random_state)\n",
    "kmeans1.fit(X)\n",
    "y_pred = kmeans1.fit_predict(X) \n",
    "  \n",
    "print('\\nCluster centres PI:')\n",
    "print(kmeans1.cluster_centers_)"
   ]
  },
  {
   "cell_type": "code",
   "execution_count": 21,
   "metadata": {},
   "outputs": [
    {
     "data": {
      "image/png": "[encoded data removed]",
      "text/plain": [
       "<Figure size 432x288 with 1 Axes>"
      ]
     },
     "metadata": {
      "needs_background": "light"
     },
     "output_type": "display_data"
    }
   ],
   "source": [
    "#grafica de las columnas 1 y 2 \n",
    "labels1 = kmeans1.labels_\n",
    "\n",
    "plt.scatter(X[:,0],X[:,1],c=labels1, cmap=plt.cm.rainbow)\n",
    "plt.scatter(kmeans1.cluster_centers_[:, 0], kmeans1.cluster_centers_[:, 1], c='Black', marker='x')\n",
    "plt.title(\"Cluster de dos variables y centroides\")\n",
    "plt.xlabel('feature 1')\n",
    "plt.ylabel('feature 2')\n",
    "plt.show() "
   ]
  },
  {
   "cell_type": "code",
   "execution_count": 29,
   "metadata": {},
   "outputs": [],
   "source": [
    "def CH_index(X, labels, centroids):\n",
    "    mean = np.mean(X,axis=0) \n",
    "    B = np.sum([ np.sum(labels==i)*(c - mean)**2 for i,c in enumerate(centroids)])\n",
    "    W = np.sum([ (X-centroids[labels[i]])**2 for i, X in enumerate(X)])\n",
    "    c = len(centroids)\n",
    "    n = len(X)\n",
    "    return ((n-c)*B )/1.0/((c-1)*W)"
   ]
  },
  {
   "cell_type": "code",
   "execution_count": 30,
   "metadata": {},
   "outputs": [
    {
     "name": "stdout",
     "output_type": "stream",
     "text": [
      "\n",
      " Silhouette_score PI_STD:\n",
      "0.5014454180716114\n",
      "\n",
      " CH_index_std: 33.784900187984235\n"
     ]
    }
   ],
   "source": [
    "# Calculate silhouette_score\n",
    "print('\\n Silhouette_score PI_STD:')\n",
    "print(silhouette_score(X, kmeans1.labels_))\n",
    "\n",
    "CH_index_std=CH_index(X, kmeans1.labels_, kmeans1.cluster_centers_)\n",
    "print('\\n CH_index_std:',CH_index_std)"
   ]
  },
  {
   "cell_type": "code",
   "execution_count": 55,
   "metadata": {},
   "outputs": [
    {
     "data": {
      "text/html": [
       "<div>\n",
       "<style scoped>\n",
       "    .dataframe tbody tr th:only-of-type {\n",
       "        vertical-align: middle;\n",
       "    }\n",
       "\n",
       "    .dataframe tbody tr th {\n",
       "        vertical-align: top;\n",
       "    }\n",
       "\n",
       "    .dataframe thead th {\n",
       "        text-align: right;\n",
       "    }\n",
       "</style>\n",
       "<table border=\"1\" class=\"dataframe\">\n",
       "  <thead>\n",
       "    <tr style=\"text-align: right;\">\n",
       "      <th></th>\n",
       "      <th>Returns</th>\n",
       "      <th>Volatility</th>\n",
       "      <th>ClusterkMeans</th>\n",
       "    </tr>\n",
       "  </thead>\n",
       "  <tbody>\n",
       "    <tr>\n",
       "      <th>0</th>\n",
       "      <td>0.890137</td>\n",
       "      <td>0.374815</td>\n",
       "      <td>2</td>\n",
       "    </tr>\n",
       "    <tr>\n",
       "      <th>1</th>\n",
       "      <td>1.551461</td>\n",
       "      <td>0.529565</td>\n",
       "      <td>1</td>\n",
       "    </tr>\n",
       "    <tr>\n",
       "      <th>2</th>\n",
       "      <td>0.369299</td>\n",
       "      <td>0.691448</td>\n",
       "      <td>0</td>\n",
       "    </tr>\n",
       "    <tr>\n",
       "      <th>3</th>\n",
       "      <td>1.077442</td>\n",
       "      <td>0.666426</td>\n",
       "      <td>3</td>\n",
       "    </tr>\n",
       "    <tr>\n",
       "      <th>4</th>\n",
       "      <td>1.364749</td>\n",
       "      <td>0.467178</td>\n",
       "      <td>1</td>\n",
       "    </tr>\n",
       "    <tr>\n",
       "      <th>5</th>\n",
       "      <td>1.181852</td>\n",
       "      <td>0.561599</td>\n",
       "      <td>3</td>\n",
       "    </tr>\n",
       "    <tr>\n",
       "      <th>6</th>\n",
       "      <td>1.388912</td>\n",
       "      <td>0.528670</td>\n",
       "      <td>1</td>\n",
       "    </tr>\n",
       "    <tr>\n",
       "      <th>7</th>\n",
       "      <td>0.784621</td>\n",
       "      <td>0.448846</td>\n",
       "      <td>2</td>\n",
       "    </tr>\n",
       "  </tbody>\n",
       "</table>\n",
       "</div>"
      ],
      "text/plain": [
       "    Returns  Volatility  ClusterkMeans\n",
       "0  0.890137    0.374815              2\n",
       "1  1.551461    0.529565              1\n",
       "2  0.369299    0.691448              0\n",
       "3  1.077442    0.666426              3\n",
       "4  1.364749    0.467178              1\n",
       "5  1.181852    0.561599              3\n",
       "6  1.388912    0.528670              1\n",
       "7  0.784621    0.448846              2"
      ]
     },
     "execution_count": 55,
     "metadata": {},
     "output_type": "execute_result"
    }
   ],
   "source": [
    "data=pd.DataFrame({'Returns': data[:, 0], 'Volatility': data[:, 1]})\n",
    "data['ClusterkMeans'] = labels1\n",
    "data"
   ]
  }
 ],
 "metadata": {
  "kernelspec": {
   "display_name": "Python 3",
   "language": "python",
   "name": "python3"
  },
  "language_info": {
   "codemirror_mode": {
    "name": "ipython",
    "version": 3
   },
   "file_extension": ".py",
   "mimetype": "text/x-python",
   "name": "python",
   "nbconvert_exporter": "python",
   "pygments_lexer": "ipython3",
   "version": "3.7.1"
  }
 },
 "nbformat": 4,
 "nbformat_minor": 4
}
