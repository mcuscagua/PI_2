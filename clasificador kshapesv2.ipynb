{
 "cells": [
  {
   "cell_type": "markdown",
   "metadata": {},
   "source": [
    "# Clasificador de estrategias\n",
    "## k shapes"
   ]
  },
  {
   "cell_type": "code",
   "execution_count": 1,
   "metadata": {},
   "outputs": [],
   "source": [
    "import numpy as np\n",
    "import pandas as pd\n",
    "import matplotlib as plt\n",
    "from math import sqrt\n",
    "from yellowbrick.cluster import KElbowVisualizer\n",
    "from statistics import stdev\n"
   ]
  },
  {
   "cell_type": "code",
   "execution_count": 2,
   "metadata": {},
   "outputs": [],
   "source": [
    "from pylab import plot,show\n",
    "from numpy import vstack,array\n",
    "from numpy.random import rand\n",
    "import numpy as np\n",
    "from scipy.cluster.vq import kmeans,vq\n",
    "import pandas as pd\n",
    "#import pandas_datareader as dr\n",
    "from math import sqrt\n",
    "from sklearn.cluster import KMeans\n",
    "from matplotlib import pyplot as plt\n",
    "from sklearn.metrics import silhouette_score\n",
    "from sklearn.decomposition import PCA "
   ]
  },
  {
   "cell_type": "code",
   "execution_count": 3,
   "metadata": {},
   "outputs": [
    {
     "name": "stderr",
     "output_type": "stream",
     "text": [
      "Using TensorFlow backend.\n"
     ]
    }
   ],
   "source": [
    "'''Data Prep and Model Evaluation'''\n",
    "from sklearn import preprocessing as pp\n",
    "from sklearn.model_selection import train_test_split \n",
    "from sklearn.model_selection import StratifiedKFold \n",
    "from sklearn.metrics import log_loss, accuracy_score\n",
    "from sklearn.metrics import precision_recall_curve, average_precision_score\n",
    "from sklearn.metrics import roc_curve, auc, roc_auc_score, mean_squared_error\n",
    "from keras.utils import to_categorical\n",
    "from sklearn.metrics import adjusted_rand_score\n",
    "import random\n",
    "\n",
    "'''Algos'''\n",
    "#from kshape.core import kshape, zscore\n",
    "import tslearn\n",
    "from tslearn.utils import to_time_series_dataset\n",
    "from tslearn.clustering import KShape, TimeSeriesScalerMeanVariance\n",
    "from tslearn.clustering import TimeSeriesKMeans\n",
    "#import hdbscan"
   ]
  },
  {
   "cell_type": "code",
   "execution_count": 4,
   "metadata": {},
   "outputs": [],
   "source": [
    "# parameters\n",
    "n = (252) # number of observation to choose\n"
   ]
  },
  {
   "cell_type": "code",
   "execution_count": 5,
   "metadata": {},
   "outputs": [],
   "source": [
    "# Load the data\n",
    "path = '/Archivos/MIDS/GitHub/models/PI_2/Features.csv'\n",
    "#Archivos/MIDS/GitHub/models/PI_2/Features.csv\n",
    "Features = pd.read_csv('Rentabilidad de estrategias base 100.csv', index_col=0)"
   ]
  },
  {
   "cell_type": "code",
   "execution_count": 6,
   "metadata": {
    "scrolled": true
   },
   "outputs": [
    {
     "data": {
      "text/html": [
       "<div>\n",
       "<style scoped>\n",
       "    .dataframe tbody tr th:only-of-type {\n",
       "        vertical-align: middle;\n",
       "    }\n",
       "\n",
       "    .dataframe tbody tr th {\n",
       "        vertical-align: top;\n",
       "    }\n",
       "\n",
       "    .dataframe thead th {\n",
       "        text-align: right;\n",
       "    }\n",
       "</style>\n",
       "<table border=\"1\" class=\"dataframe\">\n",
       "  <thead>\n",
       "    <tr style=\"text-align: right;\">\n",
       "      <th></th>\n",
       "      <th>LA1</th>\n",
       "      <th>SA1</th>\n",
       "      <th>LSA1</th>\n",
       "      <th>LA101</th>\n",
       "      <th>SA101</th>\n",
       "      <th>LSA101</th>\n",
       "      <th>LA2</th>\n",
       "      <th>SA2</th>\n",
       "      <th>LSA2</th>\n",
       "      <th>LA3</th>\n",
       "      <th>...</th>\n",
       "      <th>LSA53</th>\n",
       "      <th>LA54</th>\n",
       "      <th>SA54</th>\n",
       "      <th>LSA54</th>\n",
       "      <th>LA6</th>\n",
       "      <th>SA6</th>\n",
       "      <th>LSA6</th>\n",
       "      <th>LAMAR</th>\n",
       "      <th>SAMAR</th>\n",
       "      <th>LSAMAR</th>\n",
       "    </tr>\n",
       "    <tr>\n",
       "      <th>Date</th>\n",
       "      <th></th>\n",
       "      <th></th>\n",
       "      <th></th>\n",
       "      <th></th>\n",
       "      <th></th>\n",
       "      <th></th>\n",
       "      <th></th>\n",
       "      <th></th>\n",
       "      <th></th>\n",
       "      <th></th>\n",
       "      <th></th>\n",
       "      <th></th>\n",
       "      <th></th>\n",
       "      <th></th>\n",
       "      <th></th>\n",
       "      <th></th>\n",
       "      <th></th>\n",
       "      <th></th>\n",
       "      <th></th>\n",
       "      <th></th>\n",
       "      <th></th>\n",
       "    </tr>\n",
       "  </thead>\n",
       "  <tbody>\n",
       "    <tr>\n",
       "      <th>2008-10-31</th>\n",
       "      <td>112.315749</td>\n",
       "      <td>101.786622</td>\n",
       "      <td>114.102371</td>\n",
       "      <td>114.322571</td>\n",
       "      <td>103.793443</td>\n",
       "      <td>118.116014</td>\n",
       "      <td>99.449679</td>\n",
       "      <td>88.920552</td>\n",
       "      <td>88.370231</td>\n",
       "      <td>104.354609</td>\n",
       "      <td>...</td>\n",
       "      <td>81.883986</td>\n",
       "      <td>96.206557</td>\n",
       "      <td>85.677429</td>\n",
       "      <td>81.883986</td>\n",
       "      <td>104.354609</td>\n",
       "      <td>93.825481</td>\n",
       "      <td>98.180090</td>\n",
       "      <td>96.206557</td>\n",
       "      <td>85.677429</td>\n",
       "      <td>81.883986</td>\n",
       "    </tr>\n",
       "    <tr>\n",
       "      <th>2008-11-03</th>\n",
       "      <td>108.673546</td>\n",
       "      <td>102.316747</td>\n",
       "      <td>110.996498</td>\n",
       "      <td>106.226580</td>\n",
       "      <td>100.349511</td>\n",
       "      <td>105.832219</td>\n",
       "      <td>100.307494</td>\n",
       "      <td>93.034200</td>\n",
       "      <td>93.220667</td>\n",
       "      <td>103.600199</td>\n",
       "      <td>...</td>\n",
       "      <td>90.399733</td>\n",
       "      <td>99.398751</td>\n",
       "      <td>91.744855</td>\n",
       "      <td>90.399733</td>\n",
       "      <td>103.600199</td>\n",
       "      <td>96.678447</td>\n",
       "      <td>100.455694</td>\n",
       "      <td>99.398751</td>\n",
       "      <td>91.744855</td>\n",
       "      <td>90.399733</td>\n",
       "    </tr>\n",
       "    <tr>\n",
       "      <th>2008-11-04</th>\n",
       "      <td>125.214699</td>\n",
       "      <td>88.014545</td>\n",
       "      <td>112.375738</td>\n",
       "      <td>127.844695</td>\n",
       "      <td>91.470217</td>\n",
       "      <td>118.005653</td>\n",
       "      <td>112.245048</td>\n",
       "      <td>76.940813</td>\n",
       "      <td>88.189179</td>\n",
       "      <td>119.390981</td>\n",
       "      <td>...</td>\n",
       "      <td>80.001433</td>\n",
       "      <td>108.193919</td>\n",
       "      <td>73.073908</td>\n",
       "      <td>80.001433</td>\n",
       "      <td>119.390981</td>\n",
       "      <td>83.184769</td>\n",
       "      <td>101.746311</td>\n",
       "      <td>108.193919</td>\n",
       "      <td>73.073908</td>\n",
       "      <td>80.001433</td>\n",
       "    </tr>\n",
       "    <tr>\n",
       "      <th>2008-11-05</th>\n",
       "      <td>99.808765</td>\n",
       "      <td>100.439696</td>\n",
       "      <td>105.439075</td>\n",
       "      <td>98.080355</td>\n",
       "      <td>101.646659</td>\n",
       "      <td>103.660622</td>\n",
       "      <td>96.722894</td>\n",
       "      <td>92.773882</td>\n",
       "      <td>94.141451</td>\n",
       "      <td>99.195744</td>\n",
       "      <td>...</td>\n",
       "      <td>89.726586</td>\n",
       "      <td>96.156896</td>\n",
       "      <td>90.086712</td>\n",
       "      <td>89.726586</td>\n",
       "      <td>99.195744</td>\n",
       "      <td>97.735318</td>\n",
       "      <td>102.333012</td>\n",
       "      <td>96.156896</td>\n",
       "      <td>90.086712</td>\n",
       "      <td>89.726586</td>\n",
       "    </tr>\n",
       "    <tr>\n",
       "      <th>2008-11-06</th>\n",
       "      <td>80.598195</td>\n",
       "      <td>117.785421</td>\n",
       "      <td>103.353926</td>\n",
       "      <td>75.685445</td>\n",
       "      <td>115.555927</td>\n",
       "      <td>94.176416</td>\n",
       "      <td>81.308015</td>\n",
       "      <td>111.866757</td>\n",
       "      <td>98.512300</td>\n",
       "      <td>79.377214</td>\n",
       "      <td>...</td>\n",
       "      <td>97.935928</td>\n",
       "      <td>82.998843</td>\n",
       "      <td>110.656415</td>\n",
       "      <td>97.935928</td>\n",
       "      <td>79.377214</td>\n",
       "      <td>113.898740</td>\n",
       "      <td>98.811468</td>\n",
       "      <td>82.998843</td>\n",
       "      <td>110.656415</td>\n",
       "      <td>97.935928</td>\n",
       "    </tr>\n",
       "  </tbody>\n",
       "</table>\n",
       "<p>5 rows × 27 columns</p>\n",
       "</div>"
      ],
      "text/plain": [
       "                   LA1         SA1        LSA1       LA101       SA101  \\\n",
       "Date                                                                     \n",
       "2008-10-31  112.315749  101.786622  114.102371  114.322571  103.793443   \n",
       "2008-11-03  108.673546  102.316747  110.996498  106.226580  100.349511   \n",
       "2008-11-04  125.214699   88.014545  112.375738  127.844695   91.470217   \n",
       "2008-11-05   99.808765  100.439696  105.439075   98.080355  101.646659   \n",
       "2008-11-06   80.598195  117.785421  103.353926   75.685445  115.555927   \n",
       "\n",
       "                LSA101         LA2         SA2       LSA2         LA3  ...  \\\n",
       "Date                                                                   ...   \n",
       "2008-10-31  118.116014   99.449679   88.920552  88.370231  104.354609  ...   \n",
       "2008-11-03  105.832219  100.307494   93.034200  93.220667  103.600199  ...   \n",
       "2008-11-04  118.005653  112.245048   76.940813  88.189179  119.390981  ...   \n",
       "2008-11-05  103.660622   96.722894   92.773882  94.141451   99.195744  ...   \n",
       "2008-11-06   94.176416   81.308015  111.866757  98.512300   79.377214  ...   \n",
       "\n",
       "                LSA53        LA54        SA54      LSA54         LA6  \\\n",
       "Date                                                                   \n",
       "2008-10-31  81.883986   96.206557   85.677429  81.883986  104.354609   \n",
       "2008-11-03  90.399733   99.398751   91.744855  90.399733  103.600199   \n",
       "2008-11-04  80.001433  108.193919   73.073908  80.001433  119.390981   \n",
       "2008-11-05  89.726586   96.156896   90.086712  89.726586   99.195744   \n",
       "2008-11-06  97.935928   82.998843  110.656415  97.935928   79.377214   \n",
       "\n",
       "                   SA6        LSA6       LAMAR       SAMAR     LSAMAR  \n",
       "Date                                                                   \n",
       "2008-10-31   93.825481   98.180090   96.206557   85.677429  81.883986  \n",
       "2008-11-03   96.678447  100.455694   99.398751   91.744855  90.399733  \n",
       "2008-11-04   83.184769  101.746311  108.193919   73.073908  80.001433  \n",
       "2008-11-05   97.735318  102.333012   96.156896   90.086712  89.726586  \n",
       "2008-11-06  113.898740   98.811468   82.998843  110.656415  97.935928  \n",
       "\n",
       "[5 rows x 27 columns]"
      ]
     },
     "execution_count": 6,
     "metadata": {},
     "output_type": "execute_result"
    }
   ],
   "source": [
    "Features.head(5)"
   ]
  },
  {
   "cell_type": "code",
   "execution_count": 7,
   "metadata": {},
   "outputs": [],
   "source": [
    "df = Features.tail(n)"
   ]
  },
  {
   "cell_type": "code",
   "execution_count": 8,
   "metadata": {},
   "outputs": [
    {
     "name": "stdout",
     "output_type": "stream",
     "text": [
      "Number of time series: 27\n",
      "Number of unique classes: 27\n",
      "Time series length: 251\n"
     ]
    }
   ],
   "source": [
    "# Basic summary statistics\n",
    "data_train = df.T.values\n",
    "print(\"Number of time series:\", len(data_train))\n",
    "print(\"Number of unique classes:\", len(np.unique(data_train[:,0])))\n",
    "print(\"Time series length:\", len(data_train[0,1:]))"
   ]
  },
  {
   "cell_type": "code",
   "execution_count": 9,
   "metadata": {},
   "outputs": [],
   "source": [
    "# Prepare the data - Scale\n",
    "data_scaled = TimeSeriesScalerMeanVariance(mu=0., std=1.).fit_transform(data_train)"
   ]
  },
  {
   "cell_type": "code",
   "execution_count": 10,
   "metadata": {},
   "outputs": [
    {
     "data": {
      "text/plain": [
       "[<matplotlib.lines.Line2D at 0x210fc968860>]"
      ]
     },
     "execution_count": 10,
     "metadata": {},
     "output_type": "execute_result"
    },
    {
     "data": {
      "image/png": "[encoded data removed]",
      "text/plain": [
       "<Figure size 432x288 with 1 Axes>"
      ]
     },
     "metadata": {
      "needs_background": "light"
     },
     "output_type": "display_data"
    }
   ],
   "source": [
    "plt.plot(data_scaled[26,:,:] )"
   ]
  },
  {
   "cell_type": "code",
   "execution_count": 11,
   "metadata": {},
   "outputs": [],
   "source": [
    "X = data_scaled\n",
    "distorsions = []\n",
    "for k in range(2, 15):\n",
    "    ks = KShape(n_clusters=k, max_iter=100, n_init=100,verbose=0).fit(X)\n",
    "    distorsions.append(ks.inertia_)"
   ]
  },
  {
   "cell_type": "code",
   "execution_count": 12,
   "metadata": {},
   "outputs": [
    {
     "data": {
      "text/plain": [
       "Text(0.5, 1.0, 'Elbow curve')"
      ]
     },
     "execution_count": 12,
     "metadata": {},
     "output_type": "execute_result"
    },
    {
     "data": {
      "image/png": "[encoded data removed]",
      "text/plain": [
       "<Figure size 1080x360 with 1 Axes>"
      ]
     },
     "metadata": {
      "needs_background": "light"
     },
     "output_type": "display_data"
    }
   ],
   "source": [
    "fig = plt.figure(figsize=(15, 5))\n",
    "plt.plot(range(2, 15), distorsions)\n",
    "plt.grid(True)\n",
    "plt.title('Elbow curve')"
   ]
  },
  {
   "cell_type": "code",
   "execution_count": 13,
   "metadata": {},
   "outputs": [],
   "source": [
    "# correr el Kshapes con el k seleccionado"
   ]
  },
  {
   "cell_type": "code",
   "execution_count": 15,
   "metadata": {},
   "outputs": [
    {
     "name": "stdout",
     "output_type": "stream",
     "text": [
      "\n",
      "Cluster labels:\n",
      "[0 3 2 0 3 0 0 3 3 0 3 2 0 3 3 0 3 1 0 3 1 0 3 3 0 3 3]\n"
     ]
    }
   ],
   "source": [
    "ks = KShape(n_clusters=4, max_iter=100, n_init=100,verbose=0).fit(X)\n",
    "preds = ks.fit_predict(X)\n",
    "  \n",
    "print('\\nCluster labels:')\n",
    "print(ks.labels_)"
   ]
  },
  {
   "cell_type": "code",
   "execution_count": 16,
   "metadata": {},
   "outputs": [],
   "source": [
    "# dataframe con las estrategias y con la asignacion a cada cluster"
   ]
  },
  {
   "cell_type": "code",
   "execution_count": 17,
   "metadata": {},
   "outputs": [],
   "source": [
    "index =list(range(len(Features.columns)))\n",
    "columns = ['strategies','clusters', 'selection']\n",
    "\n",
    "\n",
    "results = pd.DataFrame(index=index, columns=columns)\n",
    "\n",
    "results ['clusters'] = ks.labels_\n",
    "results ['strategies'] = Features.columns\n",
    " "
   ]
  },
  {
   "cell_type": "code",
   "execution_count": 18,
   "metadata": {},
   "outputs": [
    {
     "data": {
      "text/html": [
       "<div>\n",
       "<style scoped>\n",
       "    .dataframe tbody tr th:only-of-type {\n",
       "        vertical-align: middle;\n",
       "    }\n",
       "\n",
       "    .dataframe tbody tr th {\n",
       "        vertical-align: top;\n",
       "    }\n",
       "\n",
       "    .dataframe thead th {\n",
       "        text-align: right;\n",
       "    }\n",
       "</style>\n",
       "<table border=\"1\" class=\"dataframe\">\n",
       "  <thead>\n",
       "    <tr style=\"text-align: right;\">\n",
       "      <th></th>\n",
       "      <th>strategies</th>\n",
       "      <th>clusters</th>\n",
       "      <th>selection</th>\n",
       "    </tr>\n",
       "  </thead>\n",
       "  <tbody>\n",
       "    <tr>\n",
       "      <th>0</th>\n",
       "      <td>LA1</td>\n",
       "      <td>0</td>\n",
       "      <td>NaN</td>\n",
       "    </tr>\n",
       "    <tr>\n",
       "      <th>1</th>\n",
       "      <td>SA1</td>\n",
       "      <td>3</td>\n",
       "      <td>NaN</td>\n",
       "    </tr>\n",
       "    <tr>\n",
       "      <th>2</th>\n",
       "      <td>LSA1</td>\n",
       "      <td>2</td>\n",
       "      <td>NaN</td>\n",
       "    </tr>\n",
       "    <tr>\n",
       "      <th>3</th>\n",
       "      <td>LA101</td>\n",
       "      <td>0</td>\n",
       "      <td>NaN</td>\n",
       "    </tr>\n",
       "    <tr>\n",
       "      <th>4</th>\n",
       "      <td>SA101</td>\n",
       "      <td>3</td>\n",
       "      <td>NaN</td>\n",
       "    </tr>\n",
       "    <tr>\n",
       "      <th>5</th>\n",
       "      <td>LSA101</td>\n",
       "      <td>0</td>\n",
       "      <td>NaN</td>\n",
       "    </tr>\n",
       "    <tr>\n",
       "      <th>6</th>\n",
       "      <td>LA2</td>\n",
       "      <td>0</td>\n",
       "      <td>NaN</td>\n",
       "    </tr>\n",
       "    <tr>\n",
       "      <th>7</th>\n",
       "      <td>SA2</td>\n",
       "      <td>3</td>\n",
       "      <td>NaN</td>\n",
       "    </tr>\n",
       "    <tr>\n",
       "      <th>8</th>\n",
       "      <td>LSA2</td>\n",
       "      <td>3</td>\n",
       "      <td>NaN</td>\n",
       "    </tr>\n",
       "    <tr>\n",
       "      <th>9</th>\n",
       "      <td>LA3</td>\n",
       "      <td>0</td>\n",
       "      <td>NaN</td>\n",
       "    </tr>\n",
       "    <tr>\n",
       "      <th>10</th>\n",
       "      <td>SA3</td>\n",
       "      <td>3</td>\n",
       "      <td>NaN</td>\n",
       "    </tr>\n",
       "    <tr>\n",
       "      <th>11</th>\n",
       "      <td>LSA3</td>\n",
       "      <td>2</td>\n",
       "      <td>NaN</td>\n",
       "    </tr>\n",
       "    <tr>\n",
       "      <th>12</th>\n",
       "      <td>LA44</td>\n",
       "      <td>0</td>\n",
       "      <td>NaN</td>\n",
       "    </tr>\n",
       "    <tr>\n",
       "      <th>13</th>\n",
       "      <td>SA44</td>\n",
       "      <td>3</td>\n",
       "      <td>NaN</td>\n",
       "    </tr>\n",
       "    <tr>\n",
       "      <th>14</th>\n",
       "      <td>LSA44</td>\n",
       "      <td>3</td>\n",
       "      <td>NaN</td>\n",
       "    </tr>\n",
       "    <tr>\n",
       "      <th>15</th>\n",
       "      <td>LA53</td>\n",
       "      <td>0</td>\n",
       "      <td>NaN</td>\n",
       "    </tr>\n",
       "    <tr>\n",
       "      <th>16</th>\n",
       "      <td>SA53</td>\n",
       "      <td>3</td>\n",
       "      <td>NaN</td>\n",
       "    </tr>\n",
       "    <tr>\n",
       "      <th>17</th>\n",
       "      <td>LSA53</td>\n",
       "      <td>1</td>\n",
       "      <td>NaN</td>\n",
       "    </tr>\n",
       "    <tr>\n",
       "      <th>18</th>\n",
       "      <td>LA54</td>\n",
       "      <td>0</td>\n",
       "      <td>NaN</td>\n",
       "    </tr>\n",
       "    <tr>\n",
       "      <th>19</th>\n",
       "      <td>SA54</td>\n",
       "      <td>3</td>\n",
       "      <td>NaN</td>\n",
       "    </tr>\n",
       "    <tr>\n",
       "      <th>20</th>\n",
       "      <td>LSA54</td>\n",
       "      <td>1</td>\n",
       "      <td>NaN</td>\n",
       "    </tr>\n",
       "    <tr>\n",
       "      <th>21</th>\n",
       "      <td>LA6</td>\n",
       "      <td>0</td>\n",
       "      <td>NaN</td>\n",
       "    </tr>\n",
       "    <tr>\n",
       "      <th>22</th>\n",
       "      <td>SA6</td>\n",
       "      <td>3</td>\n",
       "      <td>NaN</td>\n",
       "    </tr>\n",
       "    <tr>\n",
       "      <th>23</th>\n",
       "      <td>LSA6</td>\n",
       "      <td>3</td>\n",
       "      <td>NaN</td>\n",
       "    </tr>\n",
       "    <tr>\n",
       "      <th>24</th>\n",
       "      <td>LAMAR</td>\n",
       "      <td>0</td>\n",
       "      <td>NaN</td>\n",
       "    </tr>\n",
       "    <tr>\n",
       "      <th>25</th>\n",
       "      <td>SAMAR</td>\n",
       "      <td>3</td>\n",
       "      <td>NaN</td>\n",
       "    </tr>\n",
       "    <tr>\n",
       "      <th>26</th>\n",
       "      <td>LSAMAR</td>\n",
       "      <td>3</td>\n",
       "      <td>NaN</td>\n",
       "    </tr>\n",
       "  </tbody>\n",
       "</table>\n",
       "</div>"
      ],
      "text/plain": [
       "   strategies  clusters selection\n",
       "0         LA1         0       NaN\n",
       "1         SA1         3       NaN\n",
       "2        LSA1         2       NaN\n",
       "3       LA101         0       NaN\n",
       "4       SA101         3       NaN\n",
       "5      LSA101         0       NaN\n",
       "6         LA2         0       NaN\n",
       "7         SA2         3       NaN\n",
       "8        LSA2         3       NaN\n",
       "9         LA3         0       NaN\n",
       "10        SA3         3       NaN\n",
       "11       LSA3         2       NaN\n",
       "12       LA44         0       NaN\n",
       "13       SA44         3       NaN\n",
       "14      LSA44         3       NaN\n",
       "15       LA53         0       NaN\n",
       "16       SA53         3       NaN\n",
       "17      LSA53         1       NaN\n",
       "18       LA54         0       NaN\n",
       "19       SA54         3       NaN\n",
       "20      LSA54         1       NaN\n",
       "21        LA6         0       NaN\n",
       "22        SA6         3       NaN\n",
       "23       LSA6         3       NaN\n",
       "24      LAMAR         0       NaN\n",
       "25      SAMAR         3       NaN\n",
       "26     LSAMAR         3       NaN"
      ]
     },
     "execution_count": 18,
     "metadata": {},
     "output_type": "execute_result"
    }
   ],
   "source": [
    "results"
   ]
  },
  {
   "cell_type": "code",
   "execution_count": 19,
   "metadata": {},
   "outputs": [],
   "source": [
    "sharpeclusters =[] \n",
    "Features = Features.tail(n)\n",
    "for i in range(results['clusters'].nunique()):\n",
    "    \n",
    "    l = results.loc[results['clusters'] == i].index.values.astype(int).tolist()\n",
    "    dfexp=Features.pct_change().iloc[: , l].sum(axis = 1, skipna = True)\n",
    "    r = dfexp.mean()\n",
    "    s = stdev(dfexp)\n",
    "    \n",
    "    sharpeclusters.append(r/s)\n",
    "sharpeclusters = np.asanyarray(sharpeclusters)\n",
    "\n"
   ]
  },
  {
   "cell_type": "code",
   "execution_count": 20,
   "metadata": {},
   "outputs": [
    {
     "data": {
      "text/plain": [
       "<matplotlib.axes._subplots.AxesSubplot at 0x21089a78c50>"
      ]
     },
     "execution_count": 20,
     "metadata": {},
     "output_type": "execute_result"
    },
    {
     "data": {
      "image/png": "[encoded data removed]",
      "text/plain": [
       "<Figure size 432x288 with 1 Axes>"
      ]
     },
     "metadata": {
      "needs_background": "light"
     },
     "output_type": "display_data"
    }
   ],
   "source": [
    "(Features.pct_change().iloc[: , l].sum(axis = 1, skipna = True).cumsum()).plot()"
   ]
  },
  {
   "cell_type": "code",
   "execution_count": 21,
   "metadata": {},
   "outputs": [],
   "source": [
    "selection = sharpeclusters.argmax()\n",
    "cond = results['clusters'] == selection\n",
    "\n",
    "results['selection'] = np.where(cond, 1, 0)"
   ]
  },
  {
   "cell_type": "code",
   "execution_count": 22,
   "metadata": {},
   "outputs": [
    {
     "data": {
      "text/plain": [
       "0     1\n",
       "1     0\n",
       "2     0\n",
       "3     1\n",
       "4     0\n",
       "5     1\n",
       "6     1\n",
       "7     0\n",
       "8     0\n",
       "9     1\n",
       "10    0\n",
       "11    0\n",
       "12    1\n",
       "13    0\n",
       "14    0\n",
       "15    1\n",
       "16    0\n",
       "17    0\n",
       "18    1\n",
       "19    0\n",
       "20    0\n",
       "21    1\n",
       "22    0\n",
       "23    0\n",
       "24    1\n",
       "25    0\n",
       "26    0\n",
       "Name: selection, dtype: int32"
      ]
     },
     "execution_count": 22,
     "metadata": {},
     "output_type": "execute_result"
    }
   ],
   "source": [
    "results['selection']"
   ]
  }
 ],
 "metadata": {
  "kernelspec": {
   "display_name": "Python 3",
   "language": "python",
   "name": "python3"
  },
  "language_info": {
   "codemirror_mode": {
    "name": "ipython",
    "version": 3
   },
   "file_extension": ".py",
   "mimetype": "text/x-python",
   "name": "python",
   "nbconvert_exporter": "python",
   "pygments_lexer": "ipython3",
   "version": "3.7.3"
  }
 },
 "nbformat": 4,
 "nbformat_minor": 4
}
