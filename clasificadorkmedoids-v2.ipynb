{
 "cells": [
  {
   "cell_type": "markdown",
   "metadata": {},
   "source": [
    "# Clasificador de estrategias\n",
    "## k-Medoids"
   ]
  },
  {
   "cell_type": "code",
   "execution_count": 7,
   "metadata": {},
   "outputs": [],
   "source": [
    "import numpy as np\n",
    "import pandas as pd\n",
    "import matplotlib as plt\n",
    "from math import sqrt\n",
    "from yellowbrick.cluster import KElbowVisualizer\n",
    "from statistics import stdev\n",
    "import datetime as dt"
   ]
  },
  {
   "cell_type": "code",
   "execution_count": 19,
   "metadata": {},
   "outputs": [],
   "source": [
    "from pylab import plot,show\n",
    "from numpy import vstack,array\n",
    "from numpy.random import rand\n",
    "import numpy as np\n",
    "from scipy.cluster.vq import kmeans,vq\n",
    "import pandas as pd\n",
    "\n",
    "#import pandas_datareader as dr\n",
    "from math import sqrt\n",
    "from sklearn.cluster import KMeans\n",
    "from matplotlib import pyplot as plt\n",
    "from sklearn.metrics import silhouette_score\n",
    "from sklearn.decomposition import PCA \n",
    "\n",
    "# k medoids\n",
    "from pyclustering.cluster.kmedoids import kmedoids\n",
    "from pyclustering.cluster.elbow import elbow\n",
    "from pyclustering.cluster import cluster_visualizer"
   ]
  },
  {
   "cell_type": "code",
   "execution_count": 20,
   "metadata": {},
   "outputs": [],
   "source": [
    "# parameters\n",
    "n = (2520) # number of observation to choose"
   ]
  },
  {
   "cell_type": "code",
   "execution_count": 21,
   "metadata": {},
   "outputs": [],
   "source": [
    "# Load the data\n",
    "path = '/Archivos/MIDS/GitHub/models/PI_2/Features.csv'\n",
    "#Archivos/MIDS/GitHub/models/PI_2/Features.csv\n",
    "Features = pd.read_csv('Rentabilidad de estrategias base 100.csv', index_col=0)"
   ]
  },
  {
   "cell_type": "code",
   "execution_count": 22,
   "metadata": {},
   "outputs": [
    {
     "data": {
      "text/html": [
       "<div>\n",
       "<style scoped>\n",
       "    .dataframe tbody tr th:only-of-type {\n",
       "        vertical-align: middle;\n",
       "    }\n",
       "\n",
       "    .dataframe tbody tr th {\n",
       "        vertical-align: top;\n",
       "    }\n",
       "\n",
       "    .dataframe thead th {\n",
       "        text-align: right;\n",
       "    }\n",
       "</style>\n",
       "<table border=\"1\" class=\"dataframe\">\n",
       "  <thead>\n",
       "    <tr style=\"text-align: right;\">\n",
       "      <th></th>\n",
       "      <th>LA1</th>\n",
       "      <th>SA1</th>\n",
       "      <th>LSA1</th>\n",
       "      <th>LA101</th>\n",
       "      <th>SA101</th>\n",
       "      <th>LSA101</th>\n",
       "      <th>LA2</th>\n",
       "      <th>SA2</th>\n",
       "      <th>LSA2</th>\n",
       "      <th>LA3</th>\n",
       "      <th>...</th>\n",
       "      <th>LSA53</th>\n",
       "      <th>LA54</th>\n",
       "      <th>SA54</th>\n",
       "      <th>LSA54</th>\n",
       "      <th>LA6</th>\n",
       "      <th>SA6</th>\n",
       "      <th>LSA6</th>\n",
       "      <th>LAMAR</th>\n",
       "      <th>SAMAR</th>\n",
       "      <th>LSAMAR</th>\n",
       "    </tr>\n",
       "    <tr>\n",
       "      <th>Date</th>\n",
       "      <th></th>\n",
       "      <th></th>\n",
       "      <th></th>\n",
       "      <th></th>\n",
       "      <th></th>\n",
       "      <th></th>\n",
       "      <th></th>\n",
       "      <th></th>\n",
       "      <th></th>\n",
       "      <th></th>\n",
       "      <th></th>\n",
       "      <th></th>\n",
       "      <th></th>\n",
       "      <th></th>\n",
       "      <th></th>\n",
       "      <th></th>\n",
       "      <th></th>\n",
       "      <th></th>\n",
       "      <th></th>\n",
       "      <th></th>\n",
       "      <th></th>\n",
       "    </tr>\n",
       "  </thead>\n",
       "  <tbody>\n",
       "    <tr>\n",
       "      <th>2008-10-31</th>\n",
       "      <td>112.315749</td>\n",
       "      <td>101.786622</td>\n",
       "      <td>114.102371</td>\n",
       "      <td>114.322571</td>\n",
       "      <td>103.793443</td>\n",
       "      <td>118.116014</td>\n",
       "      <td>99.449679</td>\n",
       "      <td>88.920552</td>\n",
       "      <td>88.370231</td>\n",
       "      <td>104.354609</td>\n",
       "      <td>...</td>\n",
       "      <td>81.883986</td>\n",
       "      <td>96.206557</td>\n",
       "      <td>85.677429</td>\n",
       "      <td>81.883986</td>\n",
       "      <td>104.354609</td>\n",
       "      <td>93.825481</td>\n",
       "      <td>98.180090</td>\n",
       "      <td>96.206557</td>\n",
       "      <td>85.677429</td>\n",
       "      <td>81.883986</td>\n",
       "    </tr>\n",
       "    <tr>\n",
       "      <th>2008-11-03</th>\n",
       "      <td>108.673546</td>\n",
       "      <td>102.316747</td>\n",
       "      <td>110.996498</td>\n",
       "      <td>106.226580</td>\n",
       "      <td>100.349511</td>\n",
       "      <td>105.832219</td>\n",
       "      <td>100.307494</td>\n",
       "      <td>93.034200</td>\n",
       "      <td>93.220667</td>\n",
       "      <td>103.600199</td>\n",
       "      <td>...</td>\n",
       "      <td>90.399733</td>\n",
       "      <td>99.398751</td>\n",
       "      <td>91.744855</td>\n",
       "      <td>90.399733</td>\n",
       "      <td>103.600199</td>\n",
       "      <td>96.678447</td>\n",
       "      <td>100.455694</td>\n",
       "      <td>99.398751</td>\n",
       "      <td>91.744855</td>\n",
       "      <td>90.399733</td>\n",
       "    </tr>\n",
       "    <tr>\n",
       "      <th>2008-11-04</th>\n",
       "      <td>125.214699</td>\n",
       "      <td>88.014545</td>\n",
       "      <td>112.375738</td>\n",
       "      <td>127.844695</td>\n",
       "      <td>91.470217</td>\n",
       "      <td>118.005653</td>\n",
       "      <td>112.245048</td>\n",
       "      <td>76.940813</td>\n",
       "      <td>88.189179</td>\n",
       "      <td>119.390981</td>\n",
       "      <td>...</td>\n",
       "      <td>80.001433</td>\n",
       "      <td>108.193919</td>\n",
       "      <td>73.073908</td>\n",
       "      <td>80.001433</td>\n",
       "      <td>119.390981</td>\n",
       "      <td>83.184769</td>\n",
       "      <td>101.746311</td>\n",
       "      <td>108.193919</td>\n",
       "      <td>73.073908</td>\n",
       "      <td>80.001433</td>\n",
       "    </tr>\n",
       "    <tr>\n",
       "      <th>2008-11-05</th>\n",
       "      <td>99.808765</td>\n",
       "      <td>100.439696</td>\n",
       "      <td>105.439075</td>\n",
       "      <td>98.080355</td>\n",
       "      <td>101.646659</td>\n",
       "      <td>103.660622</td>\n",
       "      <td>96.722894</td>\n",
       "      <td>92.773882</td>\n",
       "      <td>94.141451</td>\n",
       "      <td>99.195744</td>\n",
       "      <td>...</td>\n",
       "      <td>89.726586</td>\n",
       "      <td>96.156896</td>\n",
       "      <td>90.086712</td>\n",
       "      <td>89.726586</td>\n",
       "      <td>99.195744</td>\n",
       "      <td>97.735318</td>\n",
       "      <td>102.333012</td>\n",
       "      <td>96.156896</td>\n",
       "      <td>90.086712</td>\n",
       "      <td>89.726586</td>\n",
       "    </tr>\n",
       "    <tr>\n",
       "      <th>2008-11-06</th>\n",
       "      <td>80.598195</td>\n",
       "      <td>117.785421</td>\n",
       "      <td>103.353926</td>\n",
       "      <td>75.685445</td>\n",
       "      <td>115.555927</td>\n",
       "      <td>94.176416</td>\n",
       "      <td>81.308015</td>\n",
       "      <td>111.866757</td>\n",
       "      <td>98.512300</td>\n",
       "      <td>79.377214</td>\n",
       "      <td>...</td>\n",
       "      <td>97.935928</td>\n",
       "      <td>82.998843</td>\n",
       "      <td>110.656415</td>\n",
       "      <td>97.935928</td>\n",
       "      <td>79.377214</td>\n",
       "      <td>113.898740</td>\n",
       "      <td>98.811468</td>\n",
       "      <td>82.998843</td>\n",
       "      <td>110.656415</td>\n",
       "      <td>97.935928</td>\n",
       "    </tr>\n",
       "  </tbody>\n",
       "</table>\n",
       "<p>5 rows × 27 columns</p>\n",
       "</div>"
      ],
      "text/plain": [
       "                   LA1         SA1        LSA1       LA101       SA101  \\\n",
       "Date                                                                     \n",
       "2008-10-31  112.315749  101.786622  114.102371  114.322571  103.793443   \n",
       "2008-11-03  108.673546  102.316747  110.996498  106.226580  100.349511   \n",
       "2008-11-04  125.214699   88.014545  112.375738  127.844695   91.470217   \n",
       "2008-11-05   99.808765  100.439696  105.439075   98.080355  101.646659   \n",
       "2008-11-06   80.598195  117.785421  103.353926   75.685445  115.555927   \n",
       "\n",
       "                LSA101         LA2         SA2       LSA2         LA3  ...  \\\n",
       "Date                                                                   ...   \n",
       "2008-10-31  118.116014   99.449679   88.920552  88.370231  104.354609  ...   \n",
       "2008-11-03  105.832219  100.307494   93.034200  93.220667  103.600199  ...   \n",
       "2008-11-04  118.005653  112.245048   76.940813  88.189179  119.390981  ...   \n",
       "2008-11-05  103.660622   96.722894   92.773882  94.141451   99.195744  ...   \n",
       "2008-11-06   94.176416   81.308015  111.866757  98.512300   79.377214  ...   \n",
       "\n",
       "                LSA53        LA54        SA54      LSA54         LA6  \\\n",
       "Date                                                                   \n",
       "2008-10-31  81.883986   96.206557   85.677429  81.883986  104.354609   \n",
       "2008-11-03  90.399733   99.398751   91.744855  90.399733  103.600199   \n",
       "2008-11-04  80.001433  108.193919   73.073908  80.001433  119.390981   \n",
       "2008-11-05  89.726586   96.156896   90.086712  89.726586   99.195744   \n",
       "2008-11-06  97.935928   82.998843  110.656415  97.935928   79.377214   \n",
       "\n",
       "                   SA6        LSA6       LAMAR       SAMAR     LSAMAR  \n",
       "Date                                                                   \n",
       "2008-10-31   93.825481   98.180090   96.206557   85.677429  81.883986  \n",
       "2008-11-03   96.678447  100.455694   99.398751   91.744855  90.399733  \n",
       "2008-11-04   83.184769  101.746311  108.193919   73.073908  80.001433  \n",
       "2008-11-05   97.735318  102.333012   96.156896   90.086712  89.726586  \n",
       "2008-11-06  113.898740   98.811468   82.998843  110.656415  97.935928  \n",
       "\n",
       "[5 rows x 27 columns]"
      ]
     },
     "execution_count": 22,
     "metadata": {},
     "output_type": "execute_result"
    }
   ],
   "source": [
    "Features.head(5)"
   ]
  },
  {
   "cell_type": "code",
   "execution_count": 23,
   "metadata": {},
   "outputs": [],
   "source": [
    "df = Features.tail(2520)"
   ]
  },
  {
   "cell_type": "code",
   "execution_count": 13,
   "metadata": {},
   "outputs": [
    {
     "data": {
      "text/plain": [
       "array([[ 0.00187538,  0.03380039],\n",
       "       [-0.00137904,  0.03812399],\n",
       "       [ 0.00049633,  0.0187305 ],\n",
       "       [ 0.00201356,  0.0354735 ],\n",
       "       [-0.00126166,  0.0366834 ],\n",
       "       [ 0.0007519 ,  0.01908987],\n",
       "       [ 0.00147875,  0.03629711],\n",
       "       [-0.00179648,  0.03555102],\n",
       "       [-0.00031773,  0.01786201],\n",
       "       [ 0.0015662 ,  0.0365361 ],\n",
       "       [-0.00170903,  0.03531205],\n",
       "       [-0.00014283,  0.01788842],\n",
       "       [ 0.00156968,  0.03574369],\n",
       "       [-0.00170555,  0.03611822],\n",
       "       [-0.00013587,  0.01790574],\n",
       "       [ 0.0014959 ,  0.03611611],\n",
       "       [-0.00177933,  0.03596058],\n",
       "       [-0.00028342,  0.01874603],\n",
       "       [ 0.00149113,  0.03656556],\n",
       "       [-0.0017841 ,  0.03548397],\n",
       "       [-0.00029297,  0.01867204],\n",
       "       [ 0.0013766 ,  0.03630006],\n",
       "       [-0.00189863,  0.0355938 ],\n",
       "       [-0.00052203,  0.01804347],\n",
       "       [ 0.00172749,  0.03541604],\n",
       "       [-0.00154774,  0.0372119 ],\n",
       "       [ 0.00017975,  0.02084185]])"
      ]
     },
     "execution_count": 13,
     "metadata": {},
     "output_type": "execute_result"
    }
   ],
   "source": [
    "# calculamos el retorno y volatilidad.\n",
    "\n",
    "returns = df.pct_change().mean()\n",
    "returns = pd.DataFrame(returns)\n",
    "returns.columns = ['Returns'] \n",
    "returns['Volatility'] = df.pct_change().std()\n",
    "\n",
    "#format the data as a numpy array to feed into the kmedoids algorithm\n",
    "data = np.asarray([np.asarray(returns['Returns']),np.asarray(returns['Volatility'])]).T\n",
    "data"
   ]
  },
  {
   "cell_type": "code",
   "execution_count": 15,
   "metadata": {},
   "outputs": [],
   "source": [
    "kmin, kmax = 1, 10\n",
    "elbow_instance = elbow(data, kmin, kmax)"
   ]
  },
  {
   "cell_type": "code",
   "execution_count": 16,
   "metadata": {},
   "outputs": [],
   "source": [
    "elbow_instance.process()\n",
    "amount_clusters = elbow_instance.get_amount()  # most probable amount of clusters\n",
    "wce = elbow_instance.get_wce()  # total within-cluster errors for each K"
   ]
  },
  {
   "cell_type": "code",
   "execution_count": 17,
   "metadata": {},
   "outputs": [
    {
     "data": {
      "text/plain": [
       "4"
      ]
     },
     "execution_count": 17,
     "metadata": {},
     "output_type": "execute_result"
    }
   ],
   "source": [
    "amount_clusters"
   ]
  },
  {
   "cell_type": "code",
   "execution_count": 32,
   "metadata": {},
   "outputs": [
    {
     "name": "stdout",
     "output_type": "stream",
     "text": [
      "[[4, 1, 13, 25], [8, 2, 5, 11, 14, 17, 20, 23, 26], [10, 7, 16, 19, 22], [15, 0, 3, 6, 9, 12, 18, 21, 24]]\n"
     ]
    },
    {
     "data": {
      "image/png": "[encoded data removed]",
      "text/plain": [
       "<Figure size 432x288 with 1 Axes>"
      ]
     },
     "metadata": {
      "needs_background": "light"
     },
     "output_type": "display_data"
    },
    {
     "data": {
      "image/png": "[encoded data removed]",
      "text/plain": [
       "<Figure size 432x288 with 1 Axes>"
      ]
     },
     "execution_count": 32,
     "metadata": {},
     "output_type": "execute_result"
    }
   ],
   "source": [
    "initial_medoids = [4, 8, 10, 15]\n",
    "# Create instance of K-Medoids algorithm.\n",
    "kmedoids_instance = kmedoids(data, initial_medoids)\n",
    "# Run cluster analysis and obtain results.\n",
    "kmedoids_instance.process()\n",
    "clusters = kmedoids_instance.get_clusters()\n",
    "# Show allocated clusters.\n",
    "print(clusters)\n",
    "# Display clusters.\n",
    "visualizer = cluster_visualizer()\n",
    "visualizer.append_clusters(clusters, data)\n",
    "visualizer.show()"
   ]
  },
  {
   "cell_type": "code",
   "execution_count": null,
   "metadata": {},
   "outputs": [],
   "source": [
    "def CH_index(X, labels, centroids):\n",
    "    mean = np.mean(X,axis=0) \n",
    "    B = np.sum([ np.sum(labels==i)*(c - mean)**2 for i,c in enumerate(centroids)])\n",
    "    W = np.sum([ (X-centroids[labels[i]])**2 for i, X in enumerate(X)])\n",
    "    c = len(centroids)\n",
    "    n = len(X)\n",
    "    return ((n-c)*B )/1.0/((c-1)*W)"
   ]
  },
  {
   "cell_type": "code",
   "execution_count": null,
   "metadata": {},
   "outputs": [],
   "source": [
    "# Calculate silhouette_score\n",
    "print('\\n Silhouette_score PI_STD:')\n",
    "print(silhouette_score(X, kmeans1.labels_))\n",
    "\n",
    "CH_index_std=CH_index(X, kmeans1.labels_, kmeans1.cluster_centers_)\n",
    "print('\\n CH_index_std:',CH_index_std)"
   ]
  },
  {
   "cell_type": "code",
   "execution_count": null,
   "metadata": {},
   "outputs": [],
   "source": [
    "data=pd.DataFrame({'Returns': data[:, 0], 'Volatility': data[:, 1]})\n",
    "data['ClusterkMeans'] = labels1\n",
    "data"
   ]
  },
  {
   "cell_type": "code",
   "execution_count": null,
   "metadata": {},
   "outputs": [],
   "source": [
    "sharpeclusters =[] \n",
    "Features = Features.tail(n)\n",
    "for i in range(data['ClusterkMeans'].nunique()):\n",
    "    \n",
    "    l = data.loc[data['ClusterkMeans'] == i].index.values.astype(int).tolist()\n",
    "    dfexp=Features.pct_change().iloc[: , l].sum(axis = 1, skipna = True)\n",
    "    r = dfexp.mean()\n",
    "    s = stdev(dfexp)\n",
    "    \n",
    "    sharpeclusters.append(r/s)\n",
    "sharpeclusters = np.asanyarray(sharpeclusters)"
   ]
  },
  {
   "cell_type": "code",
   "execution_count": null,
   "metadata": {},
   "outputs": [],
   "source": [
    "selection = sharpeclusters.argmax()\n"
   ]
  },
  {
   "cell_type": "code",
   "execution_count": null,
   "metadata": {},
   "outputs": [],
   "source": [
    "cond = data['ClusterkMeans'] == selection\n",
    "\n",
    "data['selection'] = np.where(cond, 1, 0)\n"
   ]
  },
  {
   "cell_type": "code",
   "execution_count": null,
   "metadata": {},
   "outputs": [],
   "source": [
    "data"
   ]
  },
  {
   "cell_type": "code",
   "execution_count": null,
   "metadata": {},
   "outputs": [],
   "source": [
    "sharpeclusters\n"
   ]
  },
  {
   "cell_type": "code",
   "execution_count": null,
   "metadata": {},
   "outputs": [],
   "source": []
  }
 ],
 "metadata": {
  "kernelspec": {
   "display_name": "Python 3",
   "language": "python",
   "name": "python3"
  },
  "language_info": {
   "codemirror_mode": {
    "name": "ipython",
    "version": 3
   },
   "file_extension": ".py",
   "mimetype": "text/x-python",
   "name": "python",
   "nbconvert_exporter": "python",
   "pygments_lexer": "ipython3",
   "version": "3.7.3"
  }
 },
 "nbformat": 4,
 "nbformat_minor": 4
}
