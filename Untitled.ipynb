{
 "cells": [
  {
   "cell_type": "code",
   "execution_count": 14,
   "metadata": {},
   "outputs": [
    {
     "name": "stdout",
     "output_type": "stream",
     "text": [
      "[0 2]\n"
     ]
    }
   ],
   "source": [
    "from pyclustering.cluster.kmedoids import kmedoids\n",
    "from pyclustering.samples.definitions import SIMPLE_SAMPLES\n",
    "from pyclustering.utils import read_sample\n",
    "# Load list of points for cluster analysis.\n",
    "sample = read_sample(SIMPLE_SAMPLES.SAMPLE_SIMPLE3)\n",
    "# Initial medoids for sample 'Simple3'.\n",
    "initial_medoids = [4, 12, 25, 37]\n",
    "# Create instance of K-Medoids algorithm with prepared centers.\n",
    "kmedoids_instance = kmedoids(sample, initial_medoids)\n",
    "# Run cluster analysis.\n",
    "kmedoids_instance.process()\n",
    "# Calculate the closest cluster to following two points.\n",
    "points = [[0.35, 0.5], [2.5, 2.0]]\n",
    "closest_clusters = kmedoids_instance.predict(points)\n",
    "print(closest_clusters)"
   ]
  },
  {
   "cell_type": "code",
   "execution_count": 15,
   "metadata": {},
   "outputs": [
    {
     "name": "stdout",
     "output_type": "stream",
     "text": [
      "[[0.926445, 0.126412], [0.144706, 0.987019], [0.61783, 0.9626], [0.364875, 0.873276], [0.816825, 0.767734], [0.56845, 0.569056], [0.986346, 0.05509], [0.653092, 0.801198], [0.199204, 0.474921], [0.085177, 0.440827], [1.923789, 4.306381], [1.257845, 4.10197], [1.153872, 4.215423], [1.027098, 4.331249], [1.235441, 4.63963], [1.80508, 4.609467], [1.056782, 4.31567], [1.884653, 4.07751], [1.373499, 4.506044], [1.199638, 4.549227], [2.739741, 2.28594], [2.935752, 2.08966], [2.006202, 2.124409], [2.161529, 2.47041], [2.916867, 2.523174], [2.083596, 2.343243], [2.353953, 2.582947], [2.275744, 2.341464], [2.195224, 2.831759], [2.357756, 2.861451], [4.261191, 1.733438], [4.036062, 1.465132], [4.368142, 1.100842], [4.471069, 1.576629], [4.331865, 1.451407], [4.69886, 1.674527], [4.300143, 1.286052], [4.249831, 1.727785], [4.751436, 1.878438], [4.425734, 1.033563], [1.74495, 4.294445], [1.691943, 4.258711], [1.875249, 4.558748], [1.241175, 4.830152], [1.826282, 4.740381], [1.799403, 4.183979], [1.801944, 4.851211], [1.094918, 4.69344], [1.632979, 4.069506], [1.884346, 4.936861], [1.173389, 4.291984], [1.390938, 4.431651], [1.83138, 4.015487], [1.803364, 4.984064], [1.060471, 4.167168], [1.399258, 4.106216], [1.526876, 4.37241], [1.416799, 4.198118], [1.65686, 4.489688], [1.627973, 4.339493]]\n"
     ]
    }
   ],
   "source": [
    "print(sample)"
   ]
  },
  {
   "cell_type": "code",
   "execution_count": 11,
   "metadata": {},
   "outputs": [],
   "source": [
    "a=sample[1]"
   ]
  },
  {
   "cell_type": "code",
   "execution_count": 12,
   "metadata": {},
   "outputs": [
    {
     "data": {
      "text/plain": [
       "0.987019"
      ]
     },
     "execution_count": 12,
     "metadata": {},
     "output_type": "execute_result"
    }
   ],
   "source": [
    "a[1]"
   ]
  },
  {
   "cell_type": "code",
   "execution_count": null,
   "metadata": {},
   "outputs": [],
   "source": []
  }
 ],
 "metadata": {
  "kernelspec": {
   "display_name": "Python 3",
   "language": "python",
   "name": "python3"
  },
  "language_info": {
   "codemirror_mode": {
    "name": "ipython",
    "version": 3
   },
   "file_extension": ".py",
   "mimetype": "text/x-python",
   "name": "python",
   "nbconvert_exporter": "python",
   "pygments_lexer": "ipython3",
   "version": "3.7.4"
  }
 },
 "nbformat": 4,
 "nbformat_minor": 4
}
